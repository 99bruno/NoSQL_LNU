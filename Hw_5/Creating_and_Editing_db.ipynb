{
 "cells": [
  {
   "metadata": {},
   "cell_type": "markdown",
   "source": [
    "# 1. Creation and remove of the database.\n",
    "***\n",
    "## Importing the necessary libraries."
   ],
   "id": "1d6b9c8f42fd7ae9"
  },
  {
   "metadata": {
    "ExecuteTime": {
     "end_time": "2024-09-19T09:44:40.164714Z",
     "start_time": "2024-09-19T09:44:40.099734Z"
    }
   },
   "cell_type": "code",
   "source": [
    "import os\n",
    "import dotenv\n",
    "from bson import ObjectId\n",
    "\n",
    "from pymongo.mongo_client import MongoClient\n",
    "from pymongo.server_api import ServerApi"
   ],
   "id": "be42e3dcc84ccf",
   "outputs": [],
   "execution_count": 1
  },
  {
   "metadata": {},
   "cell_type": "markdown",
   "source": "## Load the environment variables from the .env file",
   "id": "895aa432f30c1790"
  },
  {
   "metadata": {
    "ExecuteTime": {
     "end_time": "2024-09-17T07:36:33.780585Z",
     "start_time": "2024-09-17T07:36:33.768238Z"
    }
   },
   "cell_type": "code",
   "source": "dotenv.load_dotenv()",
   "id": "d940ecf05e18a3f7",
   "outputs": [
    {
     "data": {
      "text/plain": [
       "True"
      ]
     },
     "execution_count": 10,
     "metadata": {},
     "output_type": "execute_result"
    }
   ],
   "execution_count": 10
  },
  {
   "metadata": {},
   "cell_type": "markdown",
   "source": "## Create a new client and connect to the server",
   "id": "96f373e2fe40a2f0"
  },
  {
   "metadata": {
    "ExecuteTime": {
     "end_time": "2024-09-17T07:36:34.372131Z",
     "start_time": "2024-09-17T07:36:34.155146Z"
    }
   },
   "cell_type": "code",
   "source": "client = MongoClient(os.getenv(\"URI\"), server_api=ServerApi('1'), tls=True, tlsAllowInvalidCertificates=True)",
   "id": "7e8681dd0f8ede04",
   "outputs": [],
   "execution_count": 11
  },
  {
   "metadata": {},
   "cell_type": "markdown",
   "source": "## Check connection to mongo by get standard db movies ",
   "id": "3337237d729304c9"
  },
  {
   "metadata": {
    "ExecuteTime": {
     "end_time": "2024-09-17T07:36:34.569262Z",
     "start_time": "2024-09-17T07:36:34.566205Z"
    }
   },
   "cell_type": "code",
   "source": [
    "def print_dict(d, indent=0):\n",
    "    for key, value in d.items():\n",
    "        print(' ' * indent + str(key) + ':', end=' ')\n",
    "        if isinstance(value, dict):\n",
    "            print()\n",
    "            print_dict(value, indent + 4)\n",
    "        else:\n",
    "            print(value)"
   ],
   "id": "a011161da8f4881b",
   "outputs": [],
   "execution_count": 12
  },
  {
   "metadata": {
    "ExecuteTime": {
     "end_time": "2024-09-17T07:36:35.320512Z",
     "start_time": "2024-09-17T07:36:34.910753Z"
    }
   },
   "cell_type": "code",
   "source": [
    "for doc in client['sample_mflix'][\"movies\"].find().limit(2): # You can change limit\n",
    "    print_dict(doc)\n",
    "    print(\"\\n\")"
   ],
   "id": "86adfc2f3c014f7a",
   "outputs": [
    {
     "name": "stdout",
     "output_type": "stream",
     "text": [
      "_id: 573a1390f29313caabcd42e8\n",
      "plot: A group of bandits stage a brazen train hold-up, only to find a determined posse hot on their heels.\n",
      "genres: ['Short', 'Western']\n",
      "runtime: 11\n",
      "cast: ['A.C. Abadie', \"Gilbert M. 'Broncho Billy' Anderson\", 'George Barnes', 'Justus D. Barnes']\n",
      "poster: https://m.media-amazon.com/images/M/MV5BMTU3NjE5NzYtYTYyNS00MDVmLWIwYjgtMmYwYWIxZDYyNzU2XkEyXkFqcGdeQXVyNzQzNzQxNzI@._V1_SY1000_SX677_AL_.jpg\n",
      "title: The Great Train Robbery\n",
      "fullplot: Among the earliest existing films in American cinema - notable as the first film that presented a narrative story to tell - it depicts a group of cowboy outlaws who hold up a train and rob the passengers. They are then pursued by a Sheriff's posse. Several scenes have color included - all hand tinted.\n",
      "languages: ['English']\n",
      "released: 1903-12-01 00:00:00\n",
      "directors: ['Edwin S. Porter']\n",
      "rated: TV-G\n",
      "awards: \n",
      "    wins: 1\n",
      "    nominations: 0\n",
      "    text: 1 win.\n",
      "lastupdated: 2015-08-13 00:27:59.177000000\n",
      "year: 1903\n",
      "imdb: \n",
      "    rating: 7.4\n",
      "    votes: 9847\n",
      "    id: 439\n",
      "countries: ['USA']\n",
      "type: movie\n",
      "tomatoes: \n",
      "    viewer: \n",
      "        rating: 3.7\n",
      "        numReviews: 2559\n",
      "        meter: 75\n",
      "    fresh: 6\n",
      "    critic: \n",
      "        rating: 7.6\n",
      "        numReviews: 6\n",
      "        meter: 100\n",
      "    rotten: 0\n",
      "    lastUpdated: 2015-08-08 19:16:10\n",
      "num_mflix_comments: 0\n",
      "\n",
      "\n",
      "_id: 573a1390f29313caabcd446f\n",
      "plot: A greedy tycoon decides, on a whim, to corner the world market in wheat. This doubles the price of bread, forcing the grain's producers into charity lines and further into poverty. The film...\n",
      "genres: ['Short', 'Drama']\n",
      "runtime: 14\n",
      "cast: ['Frank Powell', 'Grace Henderson', 'James Kirkwood', 'Linda Arvidson']\n",
      "num_mflix_comments: 1\n",
      "title: A Corner in Wheat\n",
      "fullplot: A greedy tycoon decides, on a whim, to corner the world market in wheat. This doubles the price of bread, forcing the grain's producers into charity lines and further into poverty. The film continues to contrast the ironic differences between the lives of those who work to grow the wheat and the life of the man who dabbles in its sale for profit.\n",
      "languages: ['English']\n",
      "released: 1909-12-13 00:00:00\n",
      "directors: ['D.W. Griffith']\n",
      "rated: G\n",
      "awards: \n",
      "    wins: 1\n",
      "    nominations: 0\n",
      "    text: 1 win.\n",
      "lastupdated: 2015-08-13 00:46:30.660000000\n",
      "year: 1909\n",
      "imdb: \n",
      "    rating: 6.6\n",
      "    votes: 1375\n",
      "    id: 832\n",
      "countries: ['USA']\n",
      "type: movie\n",
      "tomatoes: \n",
      "    viewer: \n",
      "        rating: 3.6\n",
      "        numReviews: 109\n",
      "        meter: 73\n",
      "    lastUpdated: 2015-05-11 18:36:53\n",
      "\n",
      "\n"
     ]
    }
   ],
   "execution_count": 13
  },
  {
   "metadata": {},
   "cell_type": "markdown",
   "source": "## Create a new database",
   "id": "3abd347772b331ff"
  },
  {
   "metadata": {
    "ExecuteTime": {
     "end_time": "2024-09-17T07:38:31.831241Z",
     "start_time": "2024-09-17T07:38:31.749721Z"
    }
   },
   "cell_type": "code",
   "source": [
    "test_collection = client['test']['test_collection']\n",
    "\n",
    "test_collection.insert_one({\"test_key\": \"test_value\"})"
   ],
   "id": "399a26c080146339",
   "outputs": [
    {
     "data": {
      "text/plain": [
       "InsertOneResult(ObjectId('66e931f7d094a47178f78116'), acknowledged=True)"
      ]
     },
     "execution_count": 19,
     "metadata": {},
     "output_type": "execute_result"
    }
   ],
   "execution_count": 19
  },
  {
   "metadata": {},
   "cell_type": "markdown",
   "source": "## Verify the creation of 'test' by listing all databases\n",
   "id": "96ae1175d0baff24"
  },
  {
   "metadata": {
    "ExecuteTime": {
     "end_time": "2024-09-17T07:38:34.680467Z",
     "start_time": "2024-09-17T07:38:34.640479Z"
    }
   },
   "cell_type": "code",
   "source": [
    "print(\"Databases before deletion:\")\n",
    "print(client.list_database_names())"
   ],
   "id": "4286b8d41c9b5bc7",
   "outputs": [
    {
     "name": "stdout",
     "output_type": "stream",
     "text": [
      "Databases before deletion:\n",
      "['sample_mflix', 'school', 'test', 'admin', 'local']\n"
     ]
    }
   ],
   "execution_count": 20
  },
  {
   "metadata": {},
   "cell_type": "markdown",
   "source": "## Drop the database",
   "id": "bb06089214360a7f"
  },
  {
   "metadata": {
    "ExecuteTime": {
     "end_time": "2024-09-17T07:39:15.520721Z",
     "start_time": "2024-09-17T07:39:15.481413Z"
    }
   },
   "cell_type": "code",
   "source": "client.drop_database('test_db')",
   "id": "e2c5e1e8b5666e7e",
   "outputs": [],
   "execution_count": 21
  },
  {
   "metadata": {},
   "cell_type": "markdown",
   "source": "## Verify the deletion of 'test' by listing all databases\n",
   "id": "267056109ab1dbe"
  },
  {
   "metadata": {
    "ExecuteTime": {
     "end_time": "2024-09-17T07:39:35.837134Z",
     "start_time": "2024-09-17T07:39:35.784568Z"
    }
   },
   "cell_type": "code",
   "source": [
    "print(\"Databases after deletion:\")\n",
    "print(client.list_database_names())"
   ],
   "id": "b3675422f6c2c101",
   "outputs": [
    {
     "name": "stdout",
     "output_type": "stream",
     "text": [
      "Databases after deletion:\n",
      "['sample_mflix', 'school', 'test', 'admin', 'local']\n"
     ]
    }
   ],
   "execution_count": 22
  },
  {
   "metadata": {},
   "cell_type": "markdown",
   "source": [
    "***\n",
    "# 2. Creation, renaming and remove of the collection.\n",
    "***\n",
    "## Create a new collection"
   ],
   "id": "59cd09b89825fd51"
  },
  {
   "metadata": {
    "ExecuteTime": {
     "end_time": "2024-09-17T07:41:53.177822Z",
     "start_time": "2024-09-17T07:41:53.097689Z"
    }
   },
   "cell_type": "code",
   "source": [
    "test_db = client['test_db']\n",
    "test_collection = test_db['test_collection']\n",
    "test_collection.insert_one({\"test_key\": \"test_value\"})"
   ],
   "id": "4cfd1013002c7fd3",
   "outputs": [
    {
     "data": {
      "text/plain": [
       "InsertOneResult(ObjectId('66e932c1d094a47178f78117'), acknowledged=True)"
      ]
     },
     "execution_count": 23,
     "metadata": {},
     "output_type": "execute_result"
    }
   ],
   "execution_count": 23
  },
  {
   "metadata": {},
   "cell_type": "markdown",
   "source": "## Verify the creation of the collection",
   "id": "1fb7f240c2cb9da5"
  },
  {
   "metadata": {
    "ExecuteTime": {
     "end_time": "2024-09-17T07:42:16.103643Z",
     "start_time": "2024-09-17T07:42:16.065447Z"
    }
   },
   "cell_type": "code",
   "source": [
    "print(\"Collections before renaming:\")\n",
    "print(test_db.list_collection_names())"
   ],
   "id": "95eb0a329f36dd7d",
   "outputs": [
    {
     "name": "stdout",
     "output_type": "stream",
     "text": [
      "Collections before renaming:\n",
      "['test_collection']\n"
     ]
    }
   ],
   "execution_count": 24
  },
  {
   "metadata": {},
   "cell_type": "markdown",
   "source": "## Rename the collection",
   "id": "946762df6f062206"
  },
  {
   "metadata": {
    "ExecuteTime": {
     "end_time": "2024-09-17T07:43:17.749550Z",
     "start_time": "2024-09-17T07:43:17.704452Z"
    }
   },
   "cell_type": "code",
   "source": "test_collection.rename('renamed_collection')",
   "id": "c4169a0f860dcfe4",
   "outputs": [
    {
     "data": {
      "text/plain": [
       "{'ok': 1.0,\n",
       " '$clusterTime': {'clusterTime': Timestamp(1726558997, 14),\n",
       "  'signature': {'hash': b'\\xae\\x11\\xe9\\xfb\\x14\\xd3M\\x14<yCS\\xf84\\n\\xbf\\x11j\\xa0Y',\n",
       "   'keyId': 7359210682539048965}},\n",
       " 'operationTime': Timestamp(1726558997, 14)}"
      ]
     },
     "execution_count": 26,
     "metadata": {},
     "output_type": "execute_result"
    }
   ],
   "execution_count": 26
  },
  {
   "metadata": {},
   "cell_type": "markdown",
   "source": "## Verify the renaming of the collection",
   "id": "3d61dc7aa38fc700"
  },
  {
   "metadata": {
    "ExecuteTime": {
     "end_time": "2024-09-17T07:43:33.412840Z",
     "start_time": "2024-09-17T07:43:33.355453Z"
    }
   },
   "cell_type": "code",
   "source": [
    "print(\"Collections after renaming:\")\n",
    "print(test_db.list_collection_names())"
   ],
   "id": "4d8131d179f7ce24",
   "outputs": [
    {
     "name": "stdout",
     "output_type": "stream",
     "text": [
      "Collections after renaming:\n",
      "['renamed_collection']\n"
     ]
    }
   ],
   "execution_count": 27
  },
  {
   "metadata": {},
   "cell_type": "markdown",
   "source": "## Remove the renamed collection",
   "id": "e6bbfaaf0b5885e"
  },
  {
   "metadata": {
    "ExecuteTime": {
     "end_time": "2024-09-17T07:43:46.767381Z",
     "start_time": "2024-09-17T07:43:46.723506Z"
    }
   },
   "cell_type": "code",
   "source": "test_db.drop_collection('renamed_collection')",
   "id": "2c6a76a2aee0efd8",
   "outputs": [
    {
     "data": {
      "text/plain": [
       "{'nIndexesWas': 1,\n",
       " 'ns': 'test_db.renamed_collection',\n",
       " 'ok': 1.0,\n",
       " '$clusterTime': {'clusterTime': Timestamp(1726559026, 12),\n",
       "  'signature': {'hash': b'\\xe8\\r\\xc0\\x86q\\x84\\xce\\xd7\\x8f\\x04H\\x15\\xc29\\x1fHC\\xa1\\xf6\\xd0',\n",
       "   'keyId': 7359210682539048965}},\n",
       " 'operationTime': Timestamp(1726559026, 12)}"
      ]
     },
     "execution_count": 28,
     "metadata": {},
     "output_type": "execute_result"
    }
   ],
   "execution_count": 28
  },
  {
   "metadata": {},
   "cell_type": "markdown",
   "source": "## Verify the deletion of the renamed collection",
   "id": "e638e3a49126ddcb"
  },
  {
   "metadata": {
    "ExecuteTime": {
     "end_time": "2024-09-17T07:43:56.759394Z",
     "start_time": "2024-09-17T07:43:56.706168Z"
    }
   },
   "cell_type": "code",
   "source": [
    "print(\"Collections after removal:\")\n",
    "print(test_db.list_collection_names())"
   ],
   "id": "c81eb1183c2e319c",
   "outputs": [
    {
     "name": "stdout",
     "output_type": "stream",
     "text": [
      "Collections after removal:\n",
      "[]\n"
     ]
    }
   ],
   "execution_count": 29
  },
  {
   "metadata": {},
   "cell_type": "markdown",
   "source": [
    "***\n",
    "# 3. Creation and introduction of changes to documents based on the results of laboratory work No. 2.\n",
    "***\n",
    "\n",
    "## Connect to the 'school' database"
   ],
   "id": "b889a9ef47e19486"
  },
  {
   "metadata": {
    "ExecuteTime": {
     "end_time": "2024-09-17T07:53:07.642783Z",
     "start_time": "2024-09-17T07:53:07.602960Z"
    }
   },
   "cell_type": "code",
   "source": [
    "students = client['school']['students']\n",
    "\n",
    "for doc in students.find().limit(2): # You can change limit\n",
    "    print_dict(doc)\n",
    "    print(\"\\n\")"
   ],
   "id": "808ada4c1a5cc783",
   "outputs": [
    {
     "name": "stdout",
     "output_type": "stream",
     "text": [
      "_id: 66e6b9ce3dcaf1edca291916\n",
      "student_id: 1\n",
      "name: John Doe\n",
      "age: 21\n",
      "courses: [101, 102, 103]\n",
      "address: \n",
      "    street: 123 Main St\n",
      "    city: Anytown\n",
      "    zip: 12345\n",
      "\n",
      "\n",
      "_id: 66e6b9ce3dcaf1edca291917\n",
      "student_id: 2\n",
      "name: Jane Smith\n",
      "age: 22\n",
      "courses: [103, 104]\n",
      "address: \n",
      "    street: 456 Elm St\n",
      "    city: Othertown\n",
      "    zip: 67890\n",
      "\n",
      "\n"
     ]
    }
   ],
   "execution_count": 32
  },
  {
   "metadata": {},
   "cell_type": "markdown",
   "source": "## Add a new field to the document",
   "id": "ff09b9f9ea610d9c"
  },
  {
   "metadata": {
    "ExecuteTime": {
     "end_time": "2024-09-17T07:55:32.371154Z",
     "start_time": "2024-09-17T07:55:32.357158Z"
    }
   },
   "cell_type": "code",
   "source": [
    "student = {\n",
    "        \"_id\": ObjectId(),\n",
    "        \"student_id\": 11,\n",
    "        \"name\": \"Oleksandr Koval\",\n",
    "        \"age\": 37,\n",
    "        \"courses\": [],\n",
    "        \"address\": {\n",
    "            \"street\": \"321 Secondary St\",\n",
    "            \"city\": \"New York\",\n",
    "            \"zip\": \"10001\"\n",
    "        }\n",
    "}"
   ],
   "id": "458a2310b05adf1a",
   "outputs": [],
   "execution_count": 33
  },
  {
   "metadata": {
    "ExecuteTime": {
     "end_time": "2024-09-17T07:55:42.841832Z",
     "start_time": "2024-09-17T07:55:42.657719Z"
    }
   },
   "cell_type": "code",
   "source": "students.insert_one(student)",
   "id": "fe59bf9e8319b3c7",
   "outputs": [
    {
     "data": {
      "text/plain": [
       "InsertOneResult(ObjectId('66e935f4d094a47178f78118'), acknowledged=True)"
      ]
     },
     "execution_count": 34,
     "metadata": {},
     "output_type": "execute_result"
    }
   ],
   "execution_count": 34
  },
  {
   "metadata": {},
   "cell_type": "markdown",
   "source": "## Verify the addition of the field",
   "id": "8d07046292c4a32c"
  },
  {
   "metadata": {
    "ExecuteTime": {
     "end_time": "2024-09-17T07:56:20.849069Z",
     "start_time": "2024-09-17T07:56:20.772788Z"
    }
   },
   "cell_type": "code",
   "source": [
    "for doc in students.find({\"student_id\": 11}): # You can change limit\n",
    "    print_dict(doc)\n",
    "    print(\"\\n\")"
   ],
   "id": "8c38f2b8dafb9cc4",
   "outputs": [
    {
     "name": "stdout",
     "output_type": "stream",
     "text": [
      "_id: 66e935f4d094a47178f78118\n",
      "student_id: 11\n",
      "name: Oleksandr Koval\n",
      "age: 37\n",
      "courses: []\n",
      "address: \n",
      "    street: 321 Secondary St\n",
      "    city: New York\n",
      "    zip: 10001\n",
      "\n",
      "\n"
     ]
    }
   ],
   "execution_count": 35
  },
  {
   "metadata": {},
   "cell_type": "markdown",
   "source": "## Update the document",
   "id": "bfc3f779a5e19de6"
  },
  {
   "metadata": {
    "ExecuteTime": {
     "end_time": "2024-09-17T07:56:39.581597Z",
     "start_time": "2024-09-17T07:56:39.426040Z"
    }
   },
   "cell_type": "code",
   "source": "students.update_one({\"student_id\": 11}, {\"$set\": {\"age\": 38}})",
   "id": "8793b33f94d14dfc",
   "outputs": [
    {
     "data": {
      "text/plain": [
       "UpdateResult({'n': 1, 'electionId': ObjectId('7fffffff0000000000000069'), 'opTime': {'ts': Timestamp(1726559799, 13), 't': 105}, 'nModified': 1, 'ok': 1.0, '$clusterTime': {'clusterTime': Timestamp(1726559799, 13), 'signature': {'hash': b'\\xc3\\x01\\\\P\\r\\xe0lV\\x06r\\xad\\x1b\\x9d_.\\xb2Ri R', 'keyId': 7359210682539048965}}, 'operationTime': Timestamp(1726559799, 13), 'updatedExisting': True}, acknowledged=True)"
      ]
     },
     "execution_count": 36,
     "metadata": {},
     "output_type": "execute_result"
    }
   ],
   "execution_count": 36
  },
  {
   "metadata": {
    "ExecuteTime": {
     "end_time": "2024-09-17T07:56:42.099577Z",
     "start_time": "2024-09-17T07:56:42.055365Z"
    }
   },
   "cell_type": "code",
   "source": [
    "for doc in students.find({\"student_id\": 11}): # You can change limit\n",
    "    print_dict(doc)\n",
    "    print(\"\\n\")"
   ],
   "id": "63a40a665e351822",
   "outputs": [
    {
     "name": "stdout",
     "output_type": "stream",
     "text": [
      "_id: 66e935f4d094a47178f78118\n",
      "student_id: 11\n",
      "name: Oleksandr Koval\n",
      "age: 38\n",
      "courses: []\n",
      "address: \n",
      "    street: 321 Secondary St\n",
      "    city: New York\n",
      "    zip: 10001\n",
      "\n",
      "\n"
     ]
    }
   ],
   "execution_count": 37
  },
  {
   "metadata": {},
   "cell_type": "markdown",
   "source": "## Remove the document",
   "id": "fd1308c5ca41a9c7"
  },
  {
   "metadata": {
    "ExecuteTime": {
     "end_time": "2024-09-17T07:56:54.049711Z",
     "start_time": "2024-09-17T07:56:53.995159Z"
    }
   },
   "cell_type": "code",
   "source": "students.delete_one({\"student_id\": 11})",
   "id": "2a9cbe31371c55ea",
   "outputs": [
    {
     "data": {
      "text/plain": [
       "DeleteResult({'n': 1, 'electionId': ObjectId('7fffffff0000000000000069'), 'opTime': {'ts': Timestamp(1726559814, 1), 't': 105}, 'ok': 1.0, '$clusterTime': {'clusterTime': Timestamp(1726559814, 2), 'signature': {'hash': b'\\xcfW\\x1c\\x8f\\xd4\\x0bD\\x1a\\x1bY\\x9e\\x94Y,\\x9feF\\x1a\\xdc\\xe2', 'keyId': 7359210682539048965}}, 'operationTime': Timestamp(1726559814, 1)}, acknowledged=True)"
      ]
     },
     "execution_count": 38,
     "metadata": {},
     "output_type": "execute_result"
    }
   ],
   "execution_count": 38
  },
  {
   "metadata": {},
   "cell_type": "markdown",
   "source": "## Verify the deletion of the document",
   "id": "88759a6590a7b8c0"
  },
  {
   "metadata": {
    "ExecuteTime": {
     "end_time": "2024-09-17T07:57:09.678833Z",
     "start_time": "2024-09-17T07:57:09.548370Z"
    }
   },
   "cell_type": "code",
   "source": [
    "for doc in students.find({\"student_id\": 11}): # You can change limit\n",
    "    print_dict(doc)\n",
    "    print(\"\\n\")"
   ],
   "id": "1df98bea4c9f391b",
   "outputs": [],
   "execution_count": 41
  }
 ],
 "metadata": {
  "kernelspec": {
   "display_name": "venv",
   "language": "python",
   "name": "venv"
  },
  "language_info": {
   "codemirror_mode": {
    "name": "ipython",
    "version": 2
   },
   "file_extension": ".py",
   "mimetype": "text/x-python",
   "name": "python",
   "nbconvert_exporter": "python",
   "pygments_lexer": "ipython2",
   "version": "2.7.6"
  }
 },
 "nbformat": 4,
 "nbformat_minor": 5
}
