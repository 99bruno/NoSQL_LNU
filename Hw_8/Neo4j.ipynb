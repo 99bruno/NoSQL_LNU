{
 "cells": [
  {
   "metadata": {},
   "cell_type": "markdown",
   "source": [
    "# Neo4j\n",
    "***\n",
    "## Importing Libraries"
   ],
   "id": "9b7b5df36e0f3643"
  },
  {
   "metadata": {
    "ExecuteTime": {
     "end_time": "2024-10-30T14:15:39.734870Z",
     "start_time": "2024-10-30T14:15:39.608824Z"
    }
   },
   "cell_type": "code",
   "source": "from neo4j_functions import ne04j",
   "id": "d1150def323bdb31",
   "outputs": [],
   "execution_count": 1
  },
  {
   "metadata": {},
   "cell_type": "markdown",
   "source": "## Creating a Movie Node to check the connection",
   "id": "c8779ef1d3f84aca"
  },
  {
   "metadata": {
    "ExecuteTime": {
     "end_time": "2024-10-30T14:15:40.096606Z",
     "start_time": "2024-10-30T14:15:40.092541Z"
    }
   },
   "cell_type": "code",
   "source": "ne04j.current_database = 'neo4j'",
   "id": "caa1d3485daa40c",
   "outputs": [],
   "execution_count": 2
  },
  {
   "metadata": {
    "ExecuteTime": {
     "end_time": "2024-10-30T14:15:41.526046Z",
     "start_time": "2024-10-30T14:15:40.298853Z"
    }
   },
   "cell_type": "code",
   "source": [
    "query = '''\n",
    "MATCH (movie:Movie {title:$favorite})<-[:ACTED_IN]-(actor)-[:ACTED_IN]->(rec:Movie)\n",
    " RETURN distinct rec.title as title LIMIT 20\n",
    "'''\n",
    "\n",
    "for record in ne04j.get('MATCH (movie:Movie) RETURN movie LIMIT 5',\n",
    "                        {\"favorite\": \"The Matrix\"}):\n",
    "  print(record)\n"
   ],
   "id": "bf2da01e8a673f79",
   "outputs": [
    {
     "name": "stdout",
     "output_type": "stream",
     "text": [
      "{'movie': {'tagline': 'Welcome to the Real World', 'title': 'The Matrix', 'released': 1999}}\n",
      "{'movie': {'tagline': 'Free your mind', 'title': 'The Matrix Reloaded', 'released': 2003}}\n",
      "{'movie': {'tagline': 'Everything that has a beginning has an end', 'title': 'The Matrix Revolutions', 'released': 2003}}\n",
      "{'movie': {'tagline': 'Evil has its winning ways', 'title': \"The Devil's Advocate\", 'released': 1997}}\n",
      "{'movie': {'tagline': \"In the heart of the nation's capital, in a courthouse of the U.S. government, one man will stop at nothing to keep his honor, and one will stop at nothing to find the truth.\", 'title': 'A Few Good Men', 'released': 1992}}\n"
     ]
    }
   ],
   "execution_count": 3
  },
  {
   "metadata": {},
   "cell_type": "markdown",
   "source": "## Creating a Graph Database",
   "id": "7db86025ba0e3310"
  },
  {
   "metadata": {
    "ExecuteTime": {
     "end_time": "2024-10-30T14:15:41.530803Z",
     "start_time": "2024-10-30T14:15:41.528222Z"
    }
   },
   "cell_type": "code",
   "source": [
    "pharm_db = \"\"\"\n",
    "// Creating nodes\n",
    "CREATE (p1:Pharmacy {name: 'Pharmacy 1', address: 'Street 1'})\n",
    "CREATE (p2:Pharmacy {name: 'Pharmacy 2', address: 'Street 2'})\n",
    "\n",
    "CREATE (m1:Medicine {name: 'Medicine 1', price: 100})\n",
    "CREATE (m2:Medicine {name: 'Medicine 2', price: 200})\n",
    "\n",
    "CREATE (r1:Reservation {date: '2024-10-30', quantity: 2})\n",
    "CREATE (r2:Reservation {date: '2024-10-31', quantity: 1})\n",
    "\n",
    "CREATE (mf1:Manufacturer {name: 'Manufacturer 1'})\n",
    "CREATE (mf2:Manufacturer {name: 'Manufacturer 2'})\n",
    "\n",
    "CREATE (s1:Sales {date: '2024-10-30', quantity: 3})\n",
    "CREATE (s2:Sales {date: '2024-10-31', quantity: 1})\n",
    "\n",
    "CREATE (i1:Inventory {quantity: 10})\n",
    "CREATE (i2:Inventory {quantity: 5})\n",
    "\n",
    "// Creating relationships\n",
    "CREATE (p1)-[:HAS]->(i1)\n",
    "CREATE (p2)-[:HAS]->(i2)\n",
    "\n",
    "CREATE (mf1)-[:PRODUCES]->(m1)\n",
    "CREATE (mf2)-[:PRODUCES]->(m2)\n",
    "\n",
    "CREATE (p1)-[:SELLS]->(s1)\n",
    "CREATE (p2)-[:SELLS]->(s2)\n",
    "\n",
    "CREATE (p1)-[:RESERVES]->(r1)\n",
    "CREATE (p2)-[:RESERVES]->(r2)\n",
    "\n",
    "CREATE (i1)-[:CONTAINS]->(m1)\n",
    "CREATE (i2)-[:CONTAINS]->(m2)\n",
    "\n",
    "CREATE (s1)-[:SELLS]->(m1)\n",
    "CREATE (s2)-[:SELLS]->(m2)\n",
    "\n",
    "CREATE (r1)-[:RESERVES]->(m1)\n",
    "CREATE (r2)-[:RESERVES]->(m2)\n",
    "\"\"\""
   ],
   "id": "268b402f065bddad",
   "outputs": [],
   "execution_count": 4
  },
  {
   "metadata": {
    "ExecuteTime": {
     "end_time": "2024-10-30T14:15:42.275196Z",
     "start_time": "2024-10-30T14:15:41.531569Z"
    }
   },
   "cell_type": "code",
   "source": "ne04j.create_new_db(pharm_db, 'Pharmacy')",
   "id": "c81fbe721001dd12",
   "outputs": [
    {
     "ename": "ClientError",
     "evalue": "{code: Neo.ClientError.Database.ExistingDatabaseFound} {message: Failed to create the specified database 'Pharmacy': Database name or alias already exists.}",
     "output_type": "error",
     "traceback": [
      "\u001B[0;31m---------------------------------------------------------------------------\u001B[0m",
      "\u001B[0;31mClientError\u001B[0m                               Traceback (most recent call last)",
      "Cell \u001B[0;32mIn[5], line 1\u001B[0m\n\u001B[0;32m----> 1\u001B[0m \u001B[43mne04j\u001B[49m\u001B[38;5;241;43m.\u001B[39;49m\u001B[43mcreate_new_db\u001B[49m\u001B[43m(\u001B[49m\u001B[43mpharm_db\u001B[49m\u001B[43m,\u001B[49m\u001B[43m \u001B[49m\u001B[38;5;124;43m'\u001B[39;49m\u001B[38;5;124;43mPharmacy\u001B[39;49m\u001B[38;5;124;43m'\u001B[39;49m\u001B[43m)\u001B[49m\n",
      "File \u001B[0;32m~/Desktop/University/NoSQL/Hw_8/neo4j_functions.py:84\u001B[0m, in \u001B[0;36mNeo4jCustom.create_new_db\u001B[0;34m(self, query, db_name)\u001B[0m\n\u001B[1;32m     81\u001B[0m session: Session\n\u001B[1;32m     83\u001B[0m \u001B[38;5;28;01mwith\u001B[39;00m \u001B[38;5;28mself\u001B[39m\u001B[38;5;241m.\u001B[39m_driver\u001B[38;5;241m.\u001B[39msession() \u001B[38;5;28;01mas\u001B[39;00m session:\n\u001B[0;32m---> 84\u001B[0m     \u001B[43msession\u001B[49m\u001B[38;5;241;43m.\u001B[39;49m\u001B[43mrun\u001B[49m\u001B[43m(\u001B[49m\u001B[38;5;124;43mf\u001B[39;49m\u001B[38;5;124;43m'\u001B[39;49m\u001B[38;5;124;43mCREATE DATABASE \u001B[39;49m\u001B[38;5;132;43;01m{\u001B[39;49;00m\u001B[43mdb_name\u001B[49m\u001B[38;5;132;43;01m}\u001B[39;49;00m\u001B[38;5;124;43m'\u001B[39;49m\u001B[43m)\u001B[49m\n\u001B[1;32m     86\u001B[0m \u001B[38;5;28mself\u001B[39m\u001B[38;5;241m.\u001B[39mcurrent_database \u001B[38;5;241m=\u001B[39m db_name\n\u001B[1;32m     88\u001B[0m \u001B[38;5;28;01mwith\u001B[39;00m \u001B[38;5;28mself\u001B[39m\u001B[38;5;241m.\u001B[39m_driver\u001B[38;5;241m.\u001B[39msession(database\u001B[38;5;241m=\u001B[39mdb_name) \u001B[38;5;28;01mas\u001B[39;00m session:\n",
      "File \u001B[0;32m~/Desktop/University/NoSQL/.venv/lib/python3.12/site-packages/neo4j/_sync/work/session.py:320\u001B[0m, in \u001B[0;36mSession.run\u001B[0;34m(self, query, parameters, **kwargs)\u001B[0m\n\u001B[1;32m    318\u001B[0m bookmarks \u001B[38;5;241m=\u001B[39m \u001B[38;5;28mself\u001B[39m\u001B[38;5;241m.\u001B[39m_get_bookmarks()\n\u001B[1;32m    319\u001B[0m parameters \u001B[38;5;241m=\u001B[39m \u001B[38;5;28mdict\u001B[39m(parameters \u001B[38;5;129;01mor\u001B[39;00m {}, \u001B[38;5;241m*\u001B[39m\u001B[38;5;241m*\u001B[39mkwargs)\n\u001B[0;32m--> 320\u001B[0m \u001B[38;5;28;43mself\u001B[39;49m\u001B[38;5;241;43m.\u001B[39;49m\u001B[43m_auto_result\u001B[49m\u001B[38;5;241;43m.\u001B[39;49m\u001B[43m_run\u001B[49m\u001B[43m(\u001B[49m\n\u001B[1;32m    321\u001B[0m \u001B[43m    \u001B[49m\u001B[43mquery\u001B[49m\u001B[43m,\u001B[49m\n\u001B[1;32m    322\u001B[0m \u001B[43m    \u001B[49m\u001B[43mparameters\u001B[49m\u001B[43m,\u001B[49m\n\u001B[1;32m    323\u001B[0m \u001B[43m    \u001B[49m\u001B[38;5;28;43mself\u001B[39;49m\u001B[38;5;241;43m.\u001B[39;49m\u001B[43m_config\u001B[49m\u001B[38;5;241;43m.\u001B[39;49m\u001B[43mdatabase\u001B[49m\u001B[43m,\u001B[49m\n\u001B[1;32m    324\u001B[0m \u001B[43m    \u001B[49m\u001B[38;5;28;43mself\u001B[39;49m\u001B[38;5;241;43m.\u001B[39;49m\u001B[43m_config\u001B[49m\u001B[38;5;241;43m.\u001B[39;49m\u001B[43mimpersonated_user\u001B[49m\u001B[43m,\u001B[49m\n\u001B[1;32m    325\u001B[0m \u001B[43m    \u001B[49m\u001B[38;5;28;43mself\u001B[39;49m\u001B[38;5;241;43m.\u001B[39;49m\u001B[43m_config\u001B[49m\u001B[38;5;241;43m.\u001B[39;49m\u001B[43mdefault_access_mode\u001B[49m\u001B[43m,\u001B[49m\n\u001B[1;32m    326\u001B[0m \u001B[43m    \u001B[49m\u001B[43mbookmarks\u001B[49m\u001B[43m,\u001B[49m\n\u001B[1;32m    327\u001B[0m \u001B[43m    \u001B[49m\u001B[38;5;28;43mself\u001B[39;49m\u001B[38;5;241;43m.\u001B[39;49m\u001B[43m_config\u001B[49m\u001B[38;5;241;43m.\u001B[39;49m\u001B[43mnotifications_min_severity\u001B[49m\u001B[43m,\u001B[49m\n\u001B[1;32m    328\u001B[0m \u001B[43m    \u001B[49m\u001B[38;5;28;43mself\u001B[39;49m\u001B[38;5;241;43m.\u001B[39;49m\u001B[43m_config\u001B[49m\u001B[38;5;241;43m.\u001B[39;49m\u001B[43mnotifications_disabled_classifications\u001B[49m\u001B[43m,\u001B[49m\n\u001B[1;32m    329\u001B[0m \u001B[43m\u001B[49m\u001B[43m)\u001B[49m\n\u001B[1;32m    331\u001B[0m \u001B[38;5;28;01mreturn\u001B[39;00m \u001B[38;5;28mself\u001B[39m\u001B[38;5;241m.\u001B[39m_auto_result\n",
      "File \u001B[0;32m~/Desktop/University/NoSQL/.venv/lib/python3.12/site-packages/neo4j/_sync/work/result.py:231\u001B[0m, in \u001B[0;36mResult._run\u001B[0;34m(self, query, parameters, db, imp_user, access_mode, bookmarks, notifications_min_severity, notifications_disabled_classifications)\u001B[0m\n\u001B[1;32m    229\u001B[0m \u001B[38;5;28mself\u001B[39m\u001B[38;5;241m.\u001B[39m_pull()\n\u001B[1;32m    230\u001B[0m \u001B[38;5;28mself\u001B[39m\u001B[38;5;241m.\u001B[39m_connection\u001B[38;5;241m.\u001B[39msend_all()\n\u001B[0;32m--> 231\u001B[0m \u001B[38;5;28;43mself\u001B[39;49m\u001B[38;5;241;43m.\u001B[39;49m\u001B[43m_attach\u001B[49m\u001B[43m(\u001B[49m\u001B[43m)\u001B[49m\n",
      "File \u001B[0;32m~/Desktop/University/NoSQL/.venv/lib/python3.12/site-packages/neo4j/_sync/work/result.py:425\u001B[0m, in \u001B[0;36mResult._attach\u001B[0;34m(self)\u001B[0m\n\u001B[1;32m    423\u001B[0m \u001B[38;5;28;01mif\u001B[39;00m \u001B[38;5;28mself\u001B[39m\u001B[38;5;241m.\u001B[39m_exhausted \u001B[38;5;129;01mis\u001B[39;00m \u001B[38;5;28;01mFalse\u001B[39;00m:\n\u001B[1;32m    424\u001B[0m     \u001B[38;5;28;01mwhile\u001B[39;00m \u001B[38;5;28mself\u001B[39m\u001B[38;5;241m.\u001B[39m_attached \u001B[38;5;129;01mis\u001B[39;00m \u001B[38;5;28;01mFalse\u001B[39;00m:\n\u001B[0;32m--> 425\u001B[0m         \u001B[38;5;28;43mself\u001B[39;49m\u001B[38;5;241;43m.\u001B[39;49m\u001B[43m_connection\u001B[49m\u001B[38;5;241;43m.\u001B[39;49m\u001B[43mfetch_message\u001B[49m\u001B[43m(\u001B[49m\u001B[43m)\u001B[49m\n",
      "File \u001B[0;32m~/Desktop/University/NoSQL/.venv/lib/python3.12/site-packages/neo4j/_sync/io/_common.py:181\u001B[0m, in \u001B[0;36mConnectionErrorHandler.__getattr__.<locals>.outer.<locals>.inner\u001B[0;34m(*args, **kwargs)\u001B[0m\n\u001B[1;32m    179\u001B[0m \u001B[38;5;28;01mdef\u001B[39;00m \u001B[38;5;21minner\u001B[39m(\u001B[38;5;241m*\u001B[39margs, \u001B[38;5;241m*\u001B[39m\u001B[38;5;241m*\u001B[39mkwargs):\n\u001B[1;32m    180\u001B[0m     \u001B[38;5;28;01mtry\u001B[39;00m:\n\u001B[0;32m--> 181\u001B[0m         \u001B[43mfunc\u001B[49m\u001B[43m(\u001B[49m\u001B[38;5;241;43m*\u001B[39;49m\u001B[43margs\u001B[49m\u001B[43m,\u001B[49m\u001B[43m \u001B[49m\u001B[38;5;241;43m*\u001B[39;49m\u001B[38;5;241;43m*\u001B[39;49m\u001B[43mkwargs\u001B[49m\u001B[43m)\u001B[49m\n\u001B[1;32m    182\u001B[0m     \u001B[38;5;28;01mexcept\u001B[39;00m (Neo4jError, ServiceUnavailable, SessionExpired) \u001B[38;5;28;01mas\u001B[39;00m exc:\n\u001B[1;32m    183\u001B[0m         \u001B[38;5;28;01massert\u001B[39;00m \u001B[38;5;129;01mnot\u001B[39;00m asyncio\u001B[38;5;241m.\u001B[39miscoroutinefunction(\u001B[38;5;28mself\u001B[39m\u001B[38;5;241m.\u001B[39m__on_error)\n",
      "File \u001B[0;32m~/Desktop/University/NoSQL/.venv/lib/python3.12/site-packages/neo4j/_sync/io/_bolt.py:977\u001B[0m, in \u001B[0;36mBolt.fetch_message\u001B[0;34m(self)\u001B[0m\n\u001B[1;32m    973\u001B[0m \u001B[38;5;66;03m# Receive exactly one message\u001B[39;00m\n\u001B[1;32m    974\u001B[0m tag, fields \u001B[38;5;241m=\u001B[39m \u001B[38;5;28mself\u001B[39m\u001B[38;5;241m.\u001B[39minbox\u001B[38;5;241m.\u001B[39mpop(\n\u001B[1;32m    975\u001B[0m     hydration_hooks\u001B[38;5;241m=\u001B[39m\u001B[38;5;28mself\u001B[39m\u001B[38;5;241m.\u001B[39mresponses[\u001B[38;5;241m0\u001B[39m]\u001B[38;5;241m.\u001B[39mhydration_hooks\n\u001B[1;32m    976\u001B[0m )\n\u001B[0;32m--> 977\u001B[0m res \u001B[38;5;241m=\u001B[39m \u001B[38;5;28;43mself\u001B[39;49m\u001B[38;5;241;43m.\u001B[39;49m\u001B[43m_process_message\u001B[49m\u001B[43m(\u001B[49m\u001B[43mtag\u001B[49m\u001B[43m,\u001B[49m\u001B[43m \u001B[49m\u001B[43mfields\u001B[49m\u001B[43m)\u001B[49m\n\u001B[1;32m    978\u001B[0m \u001B[38;5;28mself\u001B[39m\u001B[38;5;241m.\u001B[39midle_since \u001B[38;5;241m=\u001B[39m monotonic()\n\u001B[1;32m    979\u001B[0m \u001B[38;5;28;01mreturn\u001B[39;00m res\n",
      "File \u001B[0;32m~/Desktop/University/NoSQL/.venv/lib/python3.12/site-packages/neo4j/_sync/io/_bolt5.py:466\u001B[0m, in \u001B[0;36mBolt5x0._process_message\u001B[0;34m(self, tag, fields)\u001B[0m\n\u001B[1;32m    464\u001B[0m \u001B[38;5;28mself\u001B[39m\u001B[38;5;241m.\u001B[39m_server_state_manager\u001B[38;5;241m.\u001B[39mstate \u001B[38;5;241m=\u001B[39m \u001B[38;5;28mself\u001B[39m\u001B[38;5;241m.\u001B[39mbolt_states\u001B[38;5;241m.\u001B[39mFAILED\n\u001B[1;32m    465\u001B[0m \u001B[38;5;28;01mtry\u001B[39;00m:\n\u001B[0;32m--> 466\u001B[0m     \u001B[43mresponse\u001B[49m\u001B[38;5;241;43m.\u001B[39;49m\u001B[43mon_failure\u001B[49m\u001B[43m(\u001B[49m\u001B[43msummary_metadata\u001B[49m\u001B[43m \u001B[49m\u001B[38;5;129;43;01mor\u001B[39;49;00m\u001B[43m \u001B[49m\u001B[43m{\u001B[49m\u001B[43m}\u001B[49m\u001B[43m)\u001B[49m\n\u001B[1;32m    467\u001B[0m \u001B[38;5;28;01mexcept\u001B[39;00m (ServiceUnavailable, DatabaseUnavailable):\n\u001B[1;32m    468\u001B[0m     \u001B[38;5;28;01mif\u001B[39;00m \u001B[38;5;28mself\u001B[39m\u001B[38;5;241m.\u001B[39mpool:\n",
      "File \u001B[0;32m~/Desktop/University/NoSQL/.venv/lib/python3.12/site-packages/neo4j/_sync/io/_common.py:251\u001B[0m, in \u001B[0;36mResponse.on_failure\u001B[0;34m(self, metadata)\u001B[0m\n\u001B[1;32m    249\u001B[0m handler \u001B[38;5;241m=\u001B[39m \u001B[38;5;28mself\u001B[39m\u001B[38;5;241m.\u001B[39mhandlers\u001B[38;5;241m.\u001B[39mget(\u001B[38;5;124m\"\u001B[39m\u001B[38;5;124mon_summary\u001B[39m\u001B[38;5;124m\"\u001B[39m)\n\u001B[1;32m    250\u001B[0m Util\u001B[38;5;241m.\u001B[39mcallback(handler)\n\u001B[0;32m--> 251\u001B[0m \u001B[38;5;28;01mraise\u001B[39;00m Neo4jError\u001B[38;5;241m.\u001B[39mhydrate(\u001B[38;5;241m*\u001B[39m\u001B[38;5;241m*\u001B[39mmetadata)\n",
      "\u001B[0;31mClientError\u001B[0m: {code: Neo.ClientError.Database.ExistingDatabaseFound} {message: Failed to create the specified database 'Pharmacy': Database name or alias already exists.}"
     ]
    }
   ],
   "execution_count": 5
  },
  {
   "metadata": {},
   "cell_type": "markdown",
   "source": "## Checking the Database List",
   "id": "bc08a3910b19efb9"
  },
  {
   "metadata": {
    "ExecuteTime": {
     "end_time": "2024-10-30T14:15:43.423706Z",
     "start_time": "2024-10-30T14:15:43.203009Z"
    }
   },
   "cell_type": "code",
   "source": "ne04j.db_list",
   "id": "8caf8ee2736cf801",
   "outputs": [
    {
     "data": {
      "text/plain": [
       "['neo4j', 'nosqllnu', 'pharmacy', 'system']"
      ]
     },
     "execution_count": 6,
     "metadata": {},
     "output_type": "execute_result"
    }
   ],
   "execution_count": 6
  },
  {
   "metadata": {},
   "cell_type": "markdown",
   "source": "## Lets work on the Pharmacy Database",
   "id": "f41b1be34e850518"
  },
  {
   "metadata": {
    "ExecuteTime": {
     "end_time": "2024-10-30T14:15:44.634282Z",
     "start_time": "2024-10-30T14:15:44.627040Z"
    }
   },
   "cell_type": "code",
   "source": "ne04j.current_database = 'Pharmacy'",
   "id": "c4d03ef55626675a",
   "outputs": [],
   "execution_count": 7
  },
  {
   "metadata": {},
   "cell_type": "markdown",
   "source": [
    "## Querying the Database\n",
    "\n",
    "- ### Query 1: Get all the Pharmacies"
   ],
   "id": "92fe46ca411654fe"
  },
  {
   "metadata": {
    "ExecuteTime": {
     "end_time": "2024-10-30T14:15:45.732939Z",
     "start_time": "2024-10-30T14:15:45.716163Z"
    }
   },
   "cell_type": "code",
   "source": [
    "query = '''\n",
    "MATCH (p:Pharmacy)\n",
    "RETURN p.name, p.address\n",
    "'''"
   ],
   "id": "d7304b12e9fc4045",
   "outputs": [],
   "execution_count": 8
  },
  {
   "metadata": {
    "ExecuteTime": {
     "end_time": "2024-10-30T14:15:47.009665Z",
     "start_time": "2024-10-30T14:15:46.327436Z"
    }
   },
   "cell_type": "code",
   "source": [
    "for record in ne04j.get(query):\n",
    "  print(record)"
   ],
   "id": "64a13872939db2f1",
   "outputs": [
    {
     "name": "stdout",
     "output_type": "stream",
     "text": [
      "{'p.name': 'Pharmacy 1', 'p.address': 'Street 1'}\n",
      "{'p.name': 'Pharmacy 2', 'p.address': 'Street 2'}\n"
     ]
    }
   ],
   "execution_count": 9
  },
  {
   "metadata": {},
   "cell_type": "markdown",
   "source": "- ### Query 2: Get all the Medicines",
   "id": "e78e9b22b4cbafb5"
  },
  {
   "metadata": {
    "ExecuteTime": {
     "end_time": "2024-10-30T14:15:47.247388Z",
     "start_time": "2024-10-30T14:15:47.245199Z"
    }
   },
   "cell_type": "code",
   "source": [
    "query = '''\n",
    "MATCH (m:Medicine)\n",
    "RETURN m.name, m.price\n",
    "'''"
   ],
   "id": "bbe0533673b1d176",
   "outputs": [],
   "execution_count": 10
  },
  {
   "metadata": {
    "ExecuteTime": {
     "end_time": "2024-10-30T14:15:48.597230Z",
     "start_time": "2024-10-30T14:15:47.991020Z"
    }
   },
   "cell_type": "code",
   "source": [
    "for record in ne04j.get(query):\n",
    "  print(record)"
   ],
   "id": "1c09a6708b0539e6",
   "outputs": [
    {
     "name": "stdout",
     "output_type": "stream",
     "text": [
      "{'m.name': 'Medicine 1', 'm.price': 100}\n",
      "{'m.name': 'Medicine 2', 'm.price': 200}\n"
     ]
    }
   ],
   "execution_count": 11
  },
  {
   "metadata": {},
   "cell_type": "markdown",
   "source": "- ### Query 3: Get all the Reservations",
   "id": "1ad9b340702ce1d4"
  },
  {
   "metadata": {
    "ExecuteTime": {
     "end_time": "2024-10-30T14:15:49.546960Z",
     "start_time": "2024-10-30T14:15:49.543731Z"
    }
   },
   "cell_type": "code",
   "source": [
    "query = '''\n",
    "MATCH (r:Reservation)\n",
    "RETURN r.date, r.quantity\n",
    "'''"
   ],
   "id": "8434ca31abae020",
   "outputs": [],
   "execution_count": 12
  },
  {
   "metadata": {
    "ExecuteTime": {
     "end_time": "2024-10-30T14:15:51.002475Z",
     "start_time": "2024-10-30T14:15:50.399928Z"
    }
   },
   "cell_type": "code",
   "source": [
    "for record in ne04j.get(query):\n",
    "  print(record)"
   ],
   "id": "4345eb791630af55",
   "outputs": [
    {
     "name": "stdout",
     "output_type": "stream",
     "text": [
      "{'r.date': '2024-10-30', 'r.quantity': 2}\n",
      "{'r.date': '2024-10-31', 'r.quantity': 1}\n"
     ]
    }
   ],
   "execution_count": 13
  },
  {
   "metadata": {},
   "cell_type": "markdown",
   "source": "- ### Query 4: Update the Inventory",
   "id": "79848a5a34be69f4"
  },
  {
   "metadata": {
    "ExecuteTime": {
     "end_time": "2024-10-30T14:15:51.869872Z",
     "start_time": "2024-10-30T14:15:51.866251Z"
    }
   },
   "cell_type": "code",
   "source": [
    "query = '''\n",
    "MATCH (i:Inventory)\n",
    "SET i.quantity = i.quantity + 5\n",
    "RETURN i.quantity\n",
    "'''"
   ],
   "id": "5050425c753a9ea3",
   "outputs": [],
   "execution_count": 14
  },
  {
   "metadata": {
    "ExecuteTime": {
     "end_time": "2024-10-30T14:17:32.881310Z",
     "start_time": "2024-10-30T14:17:31.554762Z"
    }
   },
   "cell_type": "code",
   "source": [
    "print(\"Old Inventory:\", ne04j.get('MATCH (i:Inventory) RETURN i.quantity'))\n",
    "ne04j.run(query)\n",
    "print(\"Updated Inventory:\", ne04j.get('MATCH (i:Inventory) RETURN i.quantity'))"
   ],
   "id": "fd6e3a7fd5bdb9df",
   "outputs": [
    {
     "name": "stdout",
     "output_type": "stream",
     "text": [
      "Old Inventory: [{'i.quantity': 45}, {'i.quantity': 40}]\n",
      "Updated Inventory: [{'i.quantity': 50}, {'i.quantity': 45}]\n"
     ]
    }
   ],
   "execution_count": 20
  },
  {
   "metadata": {},
   "cell_type": "markdown",
   "source": "- ### Query 5: Create a Pharmacy 3",
   "id": "987f9f76066796fa"
  },
  {
   "metadata": {
    "ExecuteTime": {
     "end_time": "2024-10-30T14:18:59.112362Z",
     "start_time": "2024-10-30T14:18:59.106057Z"
    }
   },
   "cell_type": "code",
   "source": [
    "query = '''\n",
    "CREATE (p:Pharmacy {name: 'Pharmacy 3', address: 'Street 3'})\n",
    "'''"
   ],
   "id": "d296f7c9f4b41a1",
   "outputs": [],
   "execution_count": 23
  },
  {
   "metadata": {
    "ExecuteTime": {
     "end_time": "2024-10-30T14:19:12.131637Z",
     "start_time": "2024-10-30T14:19:10.658485Z"
    }
   },
   "cell_type": "code",
   "source": [
    "print(\"Before Creation:\" , ne04j.get('MATCH (p:Pharmacy) RETURN p.name'))\n",
    "ne04j.run(query)\n",
    "print(\"After Creation:\" , ne04j.get('MATCH (p:Pharmacy) RETURN p.name'))"
   ],
   "id": "33a05c74aa94441e",
   "outputs": [
    {
     "name": "stdout",
     "output_type": "stream",
     "text": [
      "Before Creation: [{'p.name': 'Pharmacy 2'}]\n",
      "After Creation: [{'p.name': 'Pharmacy 3'}, {'p.name': 'Pharmacy 2'}]\n"
     ]
    }
   ],
   "execution_count": 24
  },
  {
   "metadata": {},
   "cell_type": "markdown",
   "source": "- ### Query 6: Delete a Pharmacy 1",
   "id": "665b958a91bef4f1"
  },
  {
   "metadata": {
    "ExecuteTime": {
     "end_time": "2024-10-30T14:19:22.769754Z",
     "start_time": "2024-10-30T14:19:22.766302Z"
    }
   },
   "cell_type": "code",
   "source": [
    "query = '''\n",
    "MATCH (p:Pharmacy {name: 'Pharmacy 3'})\n",
    "DETACH DELETE p\n",
    "'''"
   ],
   "id": "b552a1ba36c57d54",
   "outputs": [],
   "execution_count": 27
  },
  {
   "metadata": {
    "ExecuteTime": {
     "end_time": "2024-10-30T14:19:24.473023Z",
     "start_time": "2024-10-30T14:19:23.103263Z"
    }
   },
   "cell_type": "code",
   "source": [
    "print(\"Before Deletion:\" , ne04j.get('MATCH (p:Pharmacy) RETURN p.name'))\n",
    "ne04j.run(query)\n",
    "print(\"After Deletion:\" , ne04j.get('MATCH (p:Pharmacy) RETURN p.name'))"
   ],
   "id": "b56dee79717d394b",
   "outputs": [
    {
     "name": "stdout",
     "output_type": "stream",
     "text": [
      "Before Deletion: [{'p.name': 'Pharmacy 3'}, {'p.name': 'Pharmacy 2'}]\n",
      "After Deletion: [{'p.name': 'Pharmacy 2'}]\n"
     ]
    }
   ],
   "execution_count": 28
  },
  {
   "metadata": {},
   "cell_type": "markdown",
   "source": "- ### Query 7: Get all the Pharmacies with their Medicines",
   "id": "5af57ef432121045"
  },
  {
   "metadata": {
    "ExecuteTime": {
     "end_time": "2024-10-30T14:20:07.907809Z",
     "start_time": "2024-10-30T14:20:07.903231Z"
    }
   },
   "cell_type": "code",
   "source": [
    "query = '''\n",
    "MATCH (p:Pharmacy)-[:HAS]->(i:Inventory)-[:CONTAINS]->(m:Medicine)\n",
    "RETURN p.name, m.name\n",
    "'''"
   ],
   "id": "bb5d27922e936d9f",
   "outputs": [],
   "execution_count": 29
  },
  {
   "metadata": {
    "ExecuteTime": {
     "end_time": "2024-10-30T14:20:10.506981Z",
     "start_time": "2024-10-30T14:20:09.600957Z"
    }
   },
   "cell_type": "code",
   "source": [
    "for record in ne04j.get(query):\n",
    "  print(record)"
   ],
   "id": "ae9bdaf0c7956a23",
   "outputs": [
    {
     "name": "stdout",
     "output_type": "stream",
     "text": [
      "{'p.name': 'Pharmacy 2', 'm.name': 'Medicine 2'}\n"
     ]
    }
   ],
   "execution_count": 30
  }
 ],
 "metadata": {
  "kernelspec": {
   "display_name": "venv",
   "language": "python",
   "name": "venv"
  },
  "language_info": {
   "codemirror_mode": {
    "name": "ipython",
    "version": 2
   },
   "file_extension": ".py",
   "mimetype": "text/x-python",
   "name": "python",
   "nbconvert_exporter": "python",
   "pygments_lexer": "ipython2",
   "version": "2.7.6"
  }
 },
 "nbformat": 4,
 "nbformat_minor": 5
}
