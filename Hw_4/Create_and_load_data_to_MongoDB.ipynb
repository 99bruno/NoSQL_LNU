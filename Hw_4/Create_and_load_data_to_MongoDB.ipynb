{
 "cells": [
  {
   "metadata": {},
   "cell_type": "markdown",
   "source": "## Import the required libraries",
   "id": "477a7d5bb78702a4"
  },
  {
   "metadata": {
    "ExecuteTime": {
     "end_time": "2024-09-24T13:30:25.199916Z",
     "start_time": "2024-09-24T13:30:25.110503Z"
    }
   },
   "cell_type": "code",
   "source": [
    "import os\n",
    "import dotenv\n",
    "from bson import ObjectId\n",
    "\n",
    "from pymongo.mongo_client import MongoClient\n",
    "from pymongo.server_api import ServerApi"
   ],
   "id": "85ad04eed55f381e",
   "outputs": [],
   "execution_count": 1
  },
  {
   "metadata": {},
   "cell_type": "markdown",
   "source": "## Load the environment variables from the .env file",
   "id": "107805fd2e03af81"
  },
  {
   "metadata": {
    "ExecuteTime": {
     "end_time": "2024-09-15T10:50:47.950918Z",
     "start_time": "2024-09-15T10:50:47.945122Z"
    }
   },
   "cell_type": "code",
   "source": "dotenv.load_dotenv()",
   "id": "9bacc9507a81f27",
   "outputs": [
    {
     "data": {
      "text/plain": [
       "True"
      ]
     },
     "execution_count": 2,
     "metadata": {},
     "output_type": "execute_result"
    }
   ],
   "execution_count": 2
  },
  {
   "metadata": {},
   "cell_type": "markdown",
   "source": "## Create a new client and connect to the server",
   "id": "1fc66b3aa5eccff5"
  },
  {
   "metadata": {
    "ExecuteTime": {
     "end_time": "2024-09-15T10:50:48.152658Z",
     "start_time": "2024-09-15T10:50:47.952314Z"
    }
   },
   "cell_type": "code",
   "source": "client = MongoClient(os.getenv(\"URI\"), server_api=ServerApi('1'), tls=True, tlsAllowInvalidCertificates=True)",
   "id": "9126afb0e4f30bf7",
   "outputs": [],
   "execution_count": 3
  },
  {
   "metadata": {},
   "cell_type": "markdown",
   "source": "## Check connection to mongo by get standard db movies ",
   "id": "b7553419eac435a3"
  },
  {
   "metadata": {
    "ExecuteTime": {
     "end_time": "2024-09-15T10:50:48.156655Z",
     "start_time": "2024-09-15T10:50:48.153679Z"
    }
   },
   "cell_type": "code",
   "source": [
    "def print_dict(d, indent=0):\n",
    "    for key, value in d.items():\n",
    "        print(' ' * indent + str(key) + ':', end=' ')\n",
    "        if isinstance(value, dict):\n",
    "            print()\n",
    "            print_dict(value, indent + 4)\n",
    "        else:\n",
    "            print(value)"
   ],
   "id": "80ebde214bbb6f01",
   "outputs": [],
   "execution_count": 4
  },
  {
   "metadata": {
    "ExecuteTime": {
     "end_time": "2024-09-15T10:50:48.560413Z",
     "start_time": "2024-09-15T10:50:48.158741Z"
    }
   },
   "cell_type": "code",
   "source": [
    "for doc in client['sample_mflix'][\"movies\"].find().limit(2): # You can change limit\n",
    "    print_dict(doc)\n",
    "    print(\"\\n\")"
   ],
   "id": "e387248e38d27aa9",
   "outputs": [
    {
     "name": "stdout",
     "output_type": "stream",
     "text": [
      "_id: 573a1390f29313caabcd42e8\n",
      "plot: A group of bandits stage a brazen train hold-up, only to find a determined posse hot on their heels.\n",
      "genres: ['Short', 'Western']\n",
      "runtime: 11\n",
      "cast: ['A.C. Abadie', \"Gilbert M. 'Broncho Billy' Anderson\", 'George Barnes', 'Justus D. Barnes']\n",
      "poster: https://m.media-amazon.com/images/M/MV5BMTU3NjE5NzYtYTYyNS00MDVmLWIwYjgtMmYwYWIxZDYyNzU2XkEyXkFqcGdeQXVyNzQzNzQxNzI@._V1_SY1000_SX677_AL_.jpg\n",
      "title: The Great Train Robbery\n",
      "fullplot: Among the earliest existing films in American cinema - notable as the first film that presented a narrative story to tell - it depicts a group of cowboy outlaws who hold up a train and rob the passengers. They are then pursued by a Sheriff's posse. Several scenes have color included - all hand tinted.\n",
      "languages: ['English']\n",
      "released: 1903-12-01 00:00:00\n",
      "directors: ['Edwin S. Porter']\n",
      "rated: TV-G\n",
      "awards: \n",
      "    wins: 1\n",
      "    nominations: 0\n",
      "    text: 1 win.\n",
      "lastupdated: 2015-08-13 00:27:59.177000000\n",
      "year: 1903\n",
      "imdb: \n",
      "    rating: 7.4\n",
      "    votes: 9847\n",
      "    id: 439\n",
      "countries: ['USA']\n",
      "type: movie\n",
      "tomatoes: \n",
      "    viewer: \n",
      "        rating: 3.7\n",
      "        numReviews: 2559\n",
      "        meter: 75\n",
      "    fresh: 6\n",
      "    critic: \n",
      "        rating: 7.6\n",
      "        numReviews: 6\n",
      "        meter: 100\n",
      "    rotten: 0\n",
      "    lastUpdated: 2015-08-08 19:16:10\n",
      "num_mflix_comments: 0\n",
      "\n",
      "\n",
      "_id: 573a1390f29313caabcd446f\n",
      "plot: A greedy tycoon decides, on a whim, to corner the world market in wheat. This doubles the price of bread, forcing the grain's producers into charity lines and further into poverty. The film...\n",
      "genres: ['Short', 'Drama']\n",
      "runtime: 14\n",
      "cast: ['Frank Powell', 'Grace Henderson', 'James Kirkwood', 'Linda Arvidson']\n",
      "num_mflix_comments: 1\n",
      "title: A Corner in Wheat\n",
      "fullplot: A greedy tycoon decides, on a whim, to corner the world market in wheat. This doubles the price of bread, forcing the grain's producers into charity lines and further into poverty. The film continues to contrast the ironic differences between the lives of those who work to grow the wheat and the life of the man who dabbles in its sale for profit.\n",
      "languages: ['English']\n",
      "released: 1909-12-13 00:00:00\n",
      "directors: ['D.W. Griffith']\n",
      "rated: G\n",
      "awards: \n",
      "    wins: 1\n",
      "    nominations: 0\n",
      "    text: 1 win.\n",
      "lastupdated: 2015-08-13 00:46:30.660000000\n",
      "year: 1909\n",
      "imdb: \n",
      "    rating: 6.6\n",
      "    votes: 1375\n",
      "    id: 832\n",
      "countries: ['USA']\n",
      "type: movie\n",
      "tomatoes: \n",
      "    viewer: \n",
      "        rating: 3.6\n",
      "        numReviews: 109\n",
      "        meter: 73\n",
      "    lastUpdated: 2015-05-11 18:36:53\n",
      "\n",
      "\n"
     ]
    }
   ],
   "execution_count": 5
  },
  {
   "metadata": {},
   "cell_type": "markdown",
   "source": [
    "## Create template for 2 collections **Students** and **Courses**\n",
    "***\n",
    "#### Students<br>\n",
    "<p>\n",
    "  &nbsp;&nbsp;&nbsp;&nbsp;{<br>\n",
    "  &nbsp;&nbsp;&nbsp;&nbsp;&nbsp;&nbsp;&nbsp;&nbsp;\"_id\": <b><i>ObjectId()</b></i>,<br>\n",
    "  &nbsp;&nbsp;&nbsp;&nbsp;&nbsp;&nbsp;&nbsp;&nbsp;\"student_id\": <b><i>int</b></i>,<br>\n",
    "  &nbsp;&nbsp;&nbsp;&nbsp;&nbsp;&nbsp;&nbsp;&nbsp;\"name\": <b><i>str</b></i>,<br>\n",
    "  &nbsp;&nbsp;&nbsp;&nbsp;&nbsp;&nbsp;&nbsp;&nbsp;\"age\": <b><i>int</b></i>,<br>\n",
    "  &nbsp;&nbsp;&nbsp;&nbsp;&nbsp;&nbsp;&nbsp;&nbsp;\"courses\": <b><i>list[int]</b></i>,  // Document with an array<br>\n",
    "  &nbsp;&nbsp;&nbsp;&nbsp;&nbsp;&nbsp;&nbsp;&nbsp;\"address\": {<br>\n",
    "  &nbsp;&nbsp;&nbsp;&nbsp;&nbsp;&nbsp;&nbsp;&nbsp;&nbsp;&nbsp;&nbsp;&nbsp;\"street\": <b><i>str</b></i>,<br>\n",
    "  &nbsp;&nbsp;&nbsp;&nbsp;&nbsp;&nbsp;&nbsp;&nbsp;&nbsp;&nbsp;&nbsp;&nbsp;\"city\": <b><i>str</b></i>,<br>\n",
    "  &nbsp;&nbsp;&nbsp;&nbsp;&nbsp;&nbsp;&nbsp;&nbsp;&nbsp;&nbsp;&nbsp;&nbsp;\"zip\": <b><i>str</b></i><br>\n",
    "  &nbsp;&nbsp;&nbsp;&nbsp;&nbsp;&nbsp;&nbsp;&nbsp;}  // Document with an embedded document<br>\n",
    "  &nbsp;&nbsp;&nbsp;&nbsp;}\n",
    "</p>\n",
    "<br>\n",
    "\n",
    "***\n",
    "\n",
    "#### Courses<br>\n",
    "<p>\n",
    "  &nbsp;&nbsp;&nbsp;&nbsp;{<br>\n",
    "  &nbsp;&nbsp;&nbsp;&nbsp;&nbsp;&nbsp;&nbsp;&nbsp;\"_id\": <b><i>ObjectId()</b></i>,<br>\n",
    "  &nbsp;&nbsp;&nbsp;&nbsp;&nbsp;&nbsp;&nbsp;&nbsp;\"course_id\": <b><i>int</b></i>,<br>\n",
    "  &nbsp;&nbsp;&nbsp;&nbsp;&nbsp;&nbsp;&nbsp;&nbsp;\"title\": <b><i>str</b></i>,<br>\n",
    "  &nbsp;&nbsp;&nbsp;&nbsp;&nbsp;&nbsp;&nbsp;&nbsp;\"description\": <b><i>str</b></i>,<br>\n",
    "  &nbsp;&nbsp;&nbsp;&nbsp;&nbsp;&nbsp;&nbsp;&nbsp;\"students\": <b><i>list[int]</b></i>,<br>\n",
    "  &nbsp;&nbsp;&nbsp;&nbsp;&nbsp;&nbsp;&nbsp;&nbsp;\"instructor\": {<br>\n",
    "  &nbsp;&nbsp;&nbsp;&nbsp;&nbsp;&nbsp;&nbsp;&nbsp;&nbsp;&nbsp;&nbsp;&nbsp;\"name\": <b><i>str</b></i>,<br>\n",
    "  &nbsp;&nbsp;&nbsp;&nbsp;&nbsp;&nbsp;&nbsp;&nbsp;&nbsp;&nbsp;&nbsp;&nbsp;\"department\": <b><i>str</b></i><br>\n",
    "  &nbsp;&nbsp;&nbsp;&nbsp;&nbsp;&nbsp;&nbsp;&nbsp;}  // Document with an embedded document<br>\n",
    "  &nbsp;&nbsp;&nbsp;&nbsp;}\n",
    "</p>\n",
    "\n",
    "***\n",
    "<br>\n",
    "\n",
    "## Define the Students and Courses collections"
   ],
   "id": "5e944426a04dcec8"
  },
  {
   "metadata": {
    "ExecuteTime": {
     "end_time": "2024-09-15T10:50:48.566216Z",
     "start_time": "2024-09-15T10:50:48.562522Z"
    }
   },
   "cell_type": "code",
   "source": [
    "students_collection = client['school']['students']\n",
    "courses_collection = client['school']['courses']"
   ],
   "id": "6e5afae57f7624d2",
   "outputs": [],
   "execution_count": 6
  },
  {
   "metadata": {},
   "cell_type": "markdown",
   "source": "## Create collections for Students",
   "id": "6aacf98915a24d66"
  },
  {
   "metadata": {
    "ExecuteTime": {
     "end_time": "2024-09-15T10:50:48.573629Z",
     "start_time": "2024-09-15T10:50:48.567684Z"
    }
   },
   "cell_type": "code",
   "source": [
    "students = [\n",
    "    {\n",
    "        \"_id\": ObjectId(),\n",
    "        \"student_id\": 1,\n",
    "        \"name\": \"John Doe\",\n",
    "        \"age\": 21,\n",
    "        \"courses\": [],  # Will be updated with course references\n",
    "        \"address\": {\n",
    "            \"street\": \"123 Main St\",\n",
    "            \"city\": \"Anytown\",\n",
    "            \"zip\": \"12345\"\n",
    "        }\n",
    "    },\n",
    "    {\n",
    "        \"_id\": ObjectId(),\n",
    "        \"student_id\": 2,\n",
    "        \"name\": \"Jane Smith\",\n",
    "        \"age\": 22,\n",
    "        \"courses\": [],\n",
    "        \"address\": {\n",
    "            \"street\": \"456 Elm St\",\n",
    "            \"city\": \"Othertown\",\n",
    "            \"zip\": \"67890\"\n",
    "        }\n",
    "    },\n",
    "    {\n",
    "        \"_id\": ObjectId(),\n",
    "        \"student_id\": 3,\n",
    "        \"name\": \"Alice Johnson\",\n",
    "        \"age\": 20,\n",
    "        \"courses\": [],\n",
    "        \"address\": {\n",
    "            \"street\": \"789 Oak St\",\n",
    "            \"city\": \"Sometown\",\n",
    "            \"zip\": \"11223\"\n",
    "        }\n",
    "    },\n",
    "    {\n",
    "        \"_id\": ObjectId(),\n",
    "        \"student_id\": 4,\n",
    "        \"name\": \"Bob Brown\",\n",
    "        \"age\": 23,\n",
    "        \"courses\": [],\n",
    "        \"address\": {\n",
    "            \"street\": \"101 Pine St\",\n",
    "            \"city\": \"Anycity\",\n",
    "            \"zip\": \"44556\"\n",
    "        }\n",
    "    },\n",
    "    {\n",
    "        \"_id\": ObjectId(),\n",
    "        \"student_id\": 5,\n",
    "        \"name\": \"Charlie Davis\",\n",
    "        \"age\": 21,\n",
    "        \"courses\": [],\n",
    "        \"address\": {\n",
    "            \"street\": \"202 Maple St\",\n",
    "            \"city\": \"Anyville\",\n",
    "            \"zip\": \"77889\"\n",
    "        }\n",
    "    }\n",
    "]"
   ],
   "id": "6d4cd4e298d7086d",
   "outputs": [],
   "execution_count": 7
  },
  {
   "metadata": {},
   "cell_type": "markdown",
   "source": "## Insert the student documents into the Students collection\n",
   "id": "964b794c6521b098"
  },
  {
   "metadata": {
    "ExecuteTime": {
     "end_time": "2024-09-15T10:50:48.622960Z",
     "start_time": "2024-09-15T10:50:48.574961Z"
    }
   },
   "cell_type": "code",
   "source": "students_collection.insert_many(students)",
   "id": "97906971f6022597",
   "outputs": [
    {
     "data": {
      "text/plain": [
       "InsertManyResult([ObjectId('66e6bc08e585da56d4f0f332'), ObjectId('66e6bc08e585da56d4f0f333'), ObjectId('66e6bc08e585da56d4f0f334'), ObjectId('66e6bc08e585da56d4f0f335'), ObjectId('66e6bc08e585da56d4f0f336')], acknowledged=True)"
      ]
     },
     "execution_count": 8,
     "metadata": {},
     "output_type": "execute_result"
    }
   ],
   "execution_count": 8
  },
  {
   "metadata": {},
   "cell_type": "markdown",
   "source": "## Create collections for Courses\n",
   "id": "add06d68110a3750"
  },
  {
   "metadata": {
    "ExecuteTime": {
     "end_time": "2024-09-15T10:50:48.627711Z",
     "start_time": "2024-09-15T10:50:48.623847Z"
    }
   },
   "cell_type": "code",
   "source": [
    "courses = [\n",
    "    {\n",
    "        \"_id\": ObjectId(),\n",
    "        \"course_id\": 101,\n",
    "        \"title\": \"Math\",\n",
    "        \"description\": \"Advanced mathematics course\",\n",
    "        \"students\": [],  # Will be updated with student references\n",
    "        \"instructor\": {\n",
    "            \"name\": \"Dr. Alan Turing\",\n",
    "            \"department\": \"Mathematics\"\n",
    "        }\n",
    "    },\n",
    "    {\n",
    "        \"_id\": ObjectId(),\n",
    "        \"course_id\": 102,\n",
    "        \"title\": \"Physics\",\n",
    "        \"description\": \"Introduction to physics\",\n",
    "        \"students\": [],\n",
    "        \"instructor\": {\n",
    "            \"name\": \"Dr. Albert Einstein\",\n",
    "            \"department\": \"Physics\"\n",
    "        }\n",
    "    },\n",
    "    {\n",
    "        \"_id\": ObjectId(),\n",
    "        \"course_id\": 103,\n",
    "        \"title\": \"Chemistry\",\n",
    "        \"description\": \"Basic chemistry course\",\n",
    "        \"students\": [],\n",
    "        \"instructor\": {\n",
    "            \"name\": \"Dr. Marie Curie\",\n",
    "            \"department\": \"Chemistry\"\n",
    "        }\n",
    "    },\n",
    "    {\n",
    "        \"_id\": ObjectId(),\n",
    "        \"course_id\": 104,\n",
    "        \"title\": \"Biology\",\n",
    "        \"description\": \"Introduction to biology\",\n",
    "        \"students\": [],\n",
    "        \"instructor\": {\n",
    "            \"name\": \"Dr. Charles Darwin\",\n",
    "            \"department\": \"Biology\"\n",
    "        }\n",
    "    },\n",
    "    {\n",
    "        \"_id\": ObjectId(),\n",
    "        \"course_id\": 105,\n",
    "        \"title\": \"Computer Science\",\n",
    "        \"description\": \"Fundamentals of computer science\",\n",
    "        \"students\": [],\n",
    "        \"instructor\": {\n",
    "            \"name\": \"Dr. Ada Lovelace\",\n",
    "            \"department\": \"Computer Science\"\n",
    "        }\n",
    "    }\n",
    "]"
   ],
   "id": "d29b420bcc82e114",
   "outputs": [],
   "execution_count": 9
  },
  {
   "metadata": {},
   "cell_type": "markdown",
   "source": "## Insert the course documents into the Courses collection\n",
   "id": "43d4a4e41d357282"
  },
  {
   "metadata": {
    "ExecuteTime": {
     "end_time": "2024-09-15T10:50:48.673494Z",
     "start_time": "2024-09-15T10:50:48.629086Z"
    }
   },
   "cell_type": "code",
   "source": "courses_collection.insert_many(courses)",
   "id": "526b0800f86f88d3",
   "outputs": [
    {
     "data": {
      "text/plain": [
       "InsertManyResult([ObjectId('66e6bc08e585da56d4f0f337'), ObjectId('66e6bc08e585da56d4f0f338'), ObjectId('66e6bc08e585da56d4f0f339'), ObjectId('66e6bc08e585da56d4f0f33a'), ObjectId('66e6bc08e585da56d4f0f33b')], acknowledged=True)"
      ]
     },
     "execution_count": 10,
     "metadata": {},
     "output_type": "execute_result"
    }
   ],
   "execution_count": 10
  },
  {
   "metadata": {},
   "cell_type": "markdown",
   "source": "## Update the Students collection with course references",
   "id": "d6107683ada6ebab"
  },
  {
   "metadata": {
    "ExecuteTime": {
     "end_time": "2024-09-15T10:50:48.831788Z",
     "start_time": "2024-09-15T10:50:48.674544Z"
    }
   },
   "cell_type": "code",
   "source": [
    "students_collection.update_one({\"student_id\": 1}, {\"$set\": {\"courses\": [101, 102, 103]}})\n",
    "students_collection.update_one({\"student_id\": 2}, {\"$set\": {\"courses\": [103, 104]}})\n",
    "students_collection.update_one({\"student_id\": 3}, {\"$set\": {\"courses\": [101, 105]}})\n",
    "students_collection.update_one({\"student_id\": 4}, {\"$set\": {\"courses\": [106, 107]}})\n",
    "students_collection.update_one({\"student_id\": 5}, {\"$set\": {\"courses\": [101, 102]}})"
   ],
   "id": "652990cc417d4fc",
   "outputs": [
    {
     "data": {
      "text/plain": [
       "UpdateResult({'n': 1, 'electionId': ObjectId('7fffffff0000000000000069'), 'opTime': {'ts': Timestamp(1726397448, 23), 't': 105}, 'nModified': 0, 'ok': 1.0, '$clusterTime': {'clusterTime': Timestamp(1726397448, 23), 'signature': {'hash': b'\\xeb\\xa6\\xde\\xfa\\x1b\\x95\\x9e\\xd7E\\xcb\\x942K\\x1b\\xda)\\xd6\\x87_\\x19', 'keyId': 7359210682539048965}}, 'operationTime': Timestamp(1726397448, 23), 'updatedExisting': True}, acknowledged=True)"
      ]
     },
     "execution_count": 11,
     "metadata": {},
     "output_type": "execute_result"
    }
   ],
   "execution_count": 11
  },
  {
   "metadata": {},
   "cell_type": "markdown",
   "source": "",
   "id": "9f7d33107420f2e0"
  },
  {
   "metadata": {},
   "cell_type": "markdown",
   "source": "## Update the Courses collection with student references\n",
   "id": "6de7d0075a943be"
  },
  {
   "metadata": {
    "ExecuteTime": {
     "end_time": "2024-09-15T10:50:48.989364Z",
     "start_time": "2024-09-15T10:50:48.832732Z"
    }
   },
   "cell_type": "code",
   "source": [
    "courses_collection.update_one({\"course_id\": 101}, {\"$set\": {\"students\": [1, 3, 5]}})\n",
    "courses_collection.update_one({\"course_id\": 102}, {\"$set\": {\"students\": [1, 5]}})\n",
    "courses_collection.update_one({\"course_id\": 103}, {\"$set\": {\"students\": [1, 2]}})\n",
    "courses_collection.update_one({\"course_id\": 104}, {\"$set\": {\"students\": [2]}})\n",
    "courses_collection.update_one({\"course_id\": 105}, {\"$set\": {\"students\": [3]}})"
   ],
   "id": "27e25e517e8c0511",
   "outputs": [
    {
     "data": {
      "text/plain": [
       "UpdateResult({'n': 1, 'electionId': ObjectId('7fffffff0000000000000069'), 'opTime': {'ts': Timestamp(1726397448, 26), 't': 105}, 'nModified': 0, 'ok': 1.0, '$clusterTime': {'clusterTime': Timestamp(1726397448, 26), 'signature': {'hash': b'\\xeb\\xa6\\xde\\xfa\\x1b\\x95\\x9e\\xd7E\\xcb\\x942K\\x1b\\xda)\\xd6\\x87_\\x19', 'keyId': 7359210682539048965}}, 'operationTime': Timestamp(1726397448, 26), 'updatedExisting': True}, acknowledged=True)"
      ]
     },
     "execution_count": 12,
     "metadata": {},
     "output_type": "execute_result"
    }
   ],
   "execution_count": 12
  },
  {
   "metadata": {},
   "cell_type": "markdown",
   "source": [
    "## Let's check whether the data has been written to the db\n",
    "\n",
    "#### 1. Students"
   ],
   "id": "e9942681202b4f36"
  },
  {
   "metadata": {
    "ExecuteTime": {
     "end_time": "2024-09-15T10:50:49.029381Z",
     "start_time": "2024-09-15T10:50:48.991576Z"
    }
   },
   "cell_type": "code",
   "source": [
    "for doc in client['school'][\"students\"].find(): # You can change limit\n",
    "    print_dict(doc)\n",
    "    print(\"\\n\")"
   ],
   "id": "f262194463cbc329",
   "outputs": [
    {
     "name": "stdout",
     "output_type": "stream",
     "text": [
      "_id: 66e6b9ce3dcaf1edca291916\n",
      "student_id: 1\n",
      "name: John Doe\n",
      "age: 21\n",
      "courses: [101, 102, 103]\n",
      "address: \n",
      "    street: 123 Main St\n",
      "    city: Anytown\n",
      "    zip: 12345\n",
      "\n",
      "\n",
      "_id: 66e6b9ce3dcaf1edca291917\n",
      "student_id: 2\n",
      "name: Jane Smith\n",
      "age: 22\n",
      "courses: [103, 104]\n",
      "address: \n",
      "    street: 456 Elm St\n",
      "    city: Othertown\n",
      "    zip: 67890\n",
      "\n",
      "\n",
      "_id: 66e6b9ce3dcaf1edca291918\n",
      "student_id: 3\n",
      "name: Alice Johnson\n",
      "age: 20\n",
      "courses: [101, 105]\n",
      "address: \n",
      "    street: 789 Oak St\n",
      "    city: Sometown\n",
      "    zip: 11223\n",
      "\n",
      "\n",
      "_id: 66e6b9ce3dcaf1edca291919\n",
      "student_id: 4\n",
      "name: Bob Brown\n",
      "age: 23\n",
      "courses: [106, 107]\n",
      "address: \n",
      "    street: 101 Pine St\n",
      "    city: Anycity\n",
      "    zip: 44556\n",
      "\n",
      "\n",
      "_id: 66e6b9ce3dcaf1edca29191a\n",
      "student_id: 5\n",
      "name: Charlie Davis\n",
      "age: 21\n",
      "courses: [101, 102]\n",
      "address: \n",
      "    street: 202 Maple St\n",
      "    city: Anyville\n",
      "    zip: 77889\n",
      "\n",
      "\n",
      "_id: 66e6bc08e585da56d4f0f332\n",
      "student_id: 1\n",
      "name: John Doe\n",
      "age: 21\n",
      "courses: []\n",
      "address: \n",
      "    street: 123 Main St\n",
      "    city: Anytown\n",
      "    zip: 12345\n",
      "\n",
      "\n",
      "_id: 66e6bc08e585da56d4f0f333\n",
      "student_id: 2\n",
      "name: Jane Smith\n",
      "age: 22\n",
      "courses: []\n",
      "address: \n",
      "    street: 456 Elm St\n",
      "    city: Othertown\n",
      "    zip: 67890\n",
      "\n",
      "\n",
      "_id: 66e6bc08e585da56d4f0f334\n",
      "student_id: 3\n",
      "name: Alice Johnson\n",
      "age: 20\n",
      "courses: []\n",
      "address: \n",
      "    street: 789 Oak St\n",
      "    city: Sometown\n",
      "    zip: 11223\n",
      "\n",
      "\n",
      "_id: 66e6bc08e585da56d4f0f335\n",
      "student_id: 4\n",
      "name: Bob Brown\n",
      "age: 23\n",
      "courses: []\n",
      "address: \n",
      "    street: 101 Pine St\n",
      "    city: Anycity\n",
      "    zip: 44556\n",
      "\n",
      "\n",
      "_id: 66e6bc08e585da56d4f0f336\n",
      "student_id: 5\n",
      "name: Charlie Davis\n",
      "age: 21\n",
      "courses: []\n",
      "address: \n",
      "    street: 202 Maple St\n",
      "    city: Anyville\n",
      "    zip: 77889\n",
      "\n",
      "\n"
     ]
    }
   ],
   "execution_count": 13
  },
  {
   "metadata": {},
   "cell_type": "markdown",
   "source": "#### 2. Courses",
   "id": "d1500118b5dfb757"
  },
  {
   "metadata": {
    "ExecuteTime": {
     "end_time": "2024-09-15T10:50:49.070949Z",
     "start_time": "2024-09-15T10:50:49.035942Z"
    }
   },
   "cell_type": "code",
   "source": [
    "for doc in client['school'][\"courses\"].find(): # You can change limit\n",
    "    print_dict(doc)\n",
    "    print(\"\\n\")"
   ],
   "id": "37f6032cabd4d7a5",
   "outputs": [
    {
     "name": "stdout",
     "output_type": "stream",
     "text": [
      "_id: 66e6ba553dcaf1edca29191b\n",
      "course_id: 101\n",
      "title: Math\n",
      "description: Advanced mathematics course\n",
      "students: [1, 3, 5]\n",
      "instructor: \n",
      "    name: Dr. Alan Turing\n",
      "    department: Mathematics\n",
      "\n",
      "\n",
      "_id: 66e6ba553dcaf1edca29191c\n",
      "course_id: 102\n",
      "title: Physics\n",
      "description: Introduction to physics\n",
      "students: [1, 5]\n",
      "instructor: \n",
      "    name: Dr. Albert Einstein\n",
      "    department: Physics\n",
      "\n",
      "\n",
      "_id: 66e6ba553dcaf1edca29191d\n",
      "course_id: 103\n",
      "title: Chemistry\n",
      "description: Basic chemistry course\n",
      "students: [1, 2]\n",
      "instructor: \n",
      "    name: Dr. Marie Curie\n",
      "    department: Chemistry\n",
      "\n",
      "\n",
      "_id: 66e6ba553dcaf1edca29191e\n",
      "course_id: 104\n",
      "title: Biology\n",
      "description: Introduction to biology\n",
      "students: [2]\n",
      "instructor: \n",
      "    name: Dr. Charles Darwin\n",
      "    department: Biology\n",
      "\n",
      "\n",
      "_id: 66e6ba553dcaf1edca29191f\n",
      "course_id: 105\n",
      "title: Computer Science\n",
      "description: Fundamentals of computer science\n",
      "students: [3]\n",
      "instructor: \n",
      "    name: Dr. Ada Lovelace\n",
      "    department: Computer Science\n",
      "\n",
      "\n",
      "_id: 66e6bc08e585da56d4f0f337\n",
      "course_id: 101\n",
      "title: Math\n",
      "description: Advanced mathematics course\n",
      "students: []\n",
      "instructor: \n",
      "    name: Dr. Alan Turing\n",
      "    department: Mathematics\n",
      "\n",
      "\n",
      "_id: 66e6bc08e585da56d4f0f338\n",
      "course_id: 102\n",
      "title: Physics\n",
      "description: Introduction to physics\n",
      "students: []\n",
      "instructor: \n",
      "    name: Dr. Albert Einstein\n",
      "    department: Physics\n",
      "\n",
      "\n",
      "_id: 66e6bc08e585da56d4f0f339\n",
      "course_id: 103\n",
      "title: Chemistry\n",
      "description: Basic chemistry course\n",
      "students: []\n",
      "instructor: \n",
      "    name: Dr. Marie Curie\n",
      "    department: Chemistry\n",
      "\n",
      "\n",
      "_id: 66e6bc08e585da56d4f0f33a\n",
      "course_id: 104\n",
      "title: Biology\n",
      "description: Introduction to biology\n",
      "students: []\n",
      "instructor: \n",
      "    name: Dr. Charles Darwin\n",
      "    department: Biology\n",
      "\n",
      "\n",
      "_id: 66e6bc08e585da56d4f0f33b\n",
      "course_id: 105\n",
      "title: Computer Science\n",
      "description: Fundamentals of computer science\n",
      "students: []\n",
      "instructor: \n",
      "    name: Dr. Ada Lovelace\n",
      "    department: Computer Science\n",
      "\n",
      "\n"
     ]
    }
   ],
   "execution_count": 14
  }
 ],
 "metadata": {
  "kernelspec": {
   "display_name": "venv",
   "language": "python",
   "name": "venv"
  },
  "language_info": {
   "codemirror_mode": {
    "name": "ipython",
    "version": 2
   },
   "file_extension": ".py",
   "mimetype": "text/x-python",
   "name": "python",
   "nbconvert_exporter": "python",
   "pygments_lexer": "ipython2",
   "version": "2.7.6"
  }
 },
 "nbformat": 4,
 "nbformat_minor": 5
}
