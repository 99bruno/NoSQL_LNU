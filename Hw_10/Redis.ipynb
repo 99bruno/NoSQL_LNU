{
 "cells": [
  {
   "metadata": {},
   "cell_type": "markdown",
   "source": [
    "# Redis in Python\n",
    "***\n",
    "## Importing Redis"
   ],
   "id": "dd2f9877b38f65ab"
  },
  {
   "metadata": {
    "ExecuteTime": {
     "end_time": "2024-10-11T06:16:53.817417Z",
     "start_time": "2024-10-11T06:16:53.811393Z"
    }
   },
   "cell_type": "code",
   "source": [
    "import os\n",
    "import dotenv\n",
    "\n",
    "import redis"
   ],
   "id": "initial_id",
   "outputs": [],
   "execution_count": 7
  },
  {
   "metadata": {},
   "cell_type": "markdown",
   "source": "## Loading Environment Variables",
   "id": "6089a1f44ec3b873"
  },
  {
   "metadata": {
    "ExecuteTime": {
     "end_time": "2024-10-11T06:17:13.183560Z",
     "start_time": "2024-10-11T06:17:13.156569Z"
    }
   },
   "cell_type": "code",
   "source": "dotenv.load_dotenv()",
   "id": "f58cfc96662e0be0",
   "outputs": [
    {
     "data": {
      "text/plain": [
       "True"
      ]
     },
     "execution_count": 8,
     "metadata": {},
     "output_type": "execute_result"
    }
   ],
   "execution_count": 8
  },
  {
   "metadata": {},
   "cell_type": "markdown",
   "source": "## Connecting to Redis  ",
   "id": "20579f5beaeebf2f"
  },
  {
   "metadata": {
    "ExecuteTime": {
     "end_time": "2024-10-11T06:17:49.137182Z",
     "start_time": "2024-10-11T06:17:49.120625Z"
    }
   },
   "cell_type": "code",
   "source": [
    "r = redis.Redis(\n",
    "  host=os.getenv('HOST'),\n",
    "    port=os.getenv('PORT'),\n",
    "    password=os.getenv('PASSWORD')\n",
    ")"
   ],
   "id": "1a3780d6af453ae3",
   "outputs": [],
   "execution_count": 9
  },
  {
   "metadata": {},
   "cell_type": "markdown",
   "source": "## Testing Connection",
   "id": "c756be743c3e6fe8"
  },
  {
   "metadata": {
    "ExecuteTime": {
     "end_time": "2024-10-11T06:18:01.262287Z",
     "start_time": "2024-10-11T06:18:01.068943Z"
    }
   },
   "cell_type": "code",
   "source": "r.ping()",
   "id": "c03e5f3f5baf23f8",
   "outputs": [
    {
     "data": {
      "text/plain": [
       "True"
      ]
     },
     "execution_count": 11,
     "metadata": {},
     "output_type": "execute_result"
    }
   ],
   "execution_count": 11
  },
  {
   "metadata": {},
   "cell_type": "markdown",
   "source": [
    "\n",
    "## Setting a key value _**String**_ pair"
   ],
   "id": "a3d861c419872bf5"
  },
  {
   "metadata": {
    "ExecuteTime": {
     "end_time": "2024-10-11T06:25:25.475194Z",
     "start_time": "2024-10-11T06:25:25.036048Z"
    }
   },
   "cell_type": "code",
   "source": "r.set('foo', 'bar')",
   "id": "2ba07f752066ac5",
   "outputs": [
    {
     "data": {
      "text/plain": [
       "True"
      ]
     },
     "execution_count": 35,
     "metadata": {},
     "output_type": "execute_result"
    }
   ],
   "execution_count": 35
  },
  {
   "metadata": {
    "ExecuteTime": {
     "end_time": "2024-10-11T06:25:26.004797Z",
     "start_time": "2024-10-11T06:25:25.477130Z"
    }
   },
   "cell_type": "code",
   "source": "r.get('foo')",
   "id": "89fa686b99630609",
   "outputs": [
    {
     "data": {
      "text/plain": [
       "b'bar'"
      ]
     },
     "execution_count": 36,
     "metadata": {},
     "output_type": "execute_result"
    }
   ],
   "execution_count": 36
  },
  {
   "metadata": {},
   "cell_type": "markdown",
   "source": "## Setting a key value _**List**_ pair",
   "id": "7d771ee9836d4743"
  },
  {
   "metadata": {
    "ExecuteTime": {
     "end_time": "2024-10-11T06:23:55.955509Z",
     "start_time": "2024-10-11T06:23:54.653255Z"
    }
   },
   "cell_type": "code",
   "source": [
    "for i in range(1, 21, 3):\n",
    "    r.rpush('mylist', i)"
   ],
   "id": "eca9073524193e10",
   "outputs": [],
   "execution_count": 31
  },
  {
   "metadata": {
    "ExecuteTime": {
     "end_time": "2024-10-11T06:23:57.248558Z",
     "start_time": "2024-10-11T06:23:57.055757Z"
    }
   },
   "cell_type": "code",
   "source": [
    "my_list = r.lrange('mylist', 0, -1)\n",
    "print(my_list)"
   ],
   "id": "c7c0b92c75c85d13",
   "outputs": [
    {
     "name": "stdout",
     "output_type": "stream",
     "text": [
      "[b'0', b'1', b'2', b'3', b'4', b'5', b'6', b'7', b'8', b'1', b'4', b'7', b'10', b'13', b'16', b'19']\n"
     ]
    }
   ],
   "execution_count": 32
  },
  {
   "metadata": {
    "ExecuteTime": {
     "end_time": "2024-10-11T06:23:38.017377Z",
     "start_time": "2024-10-11T06:23:37.814607Z"
    }
   },
   "cell_type": "code",
   "source": "r.lpop('mylist') # Removes the first element",
   "id": "7c5e703003b31806",
   "outputs": [
    {
     "data": {
      "text/plain": [
       "b'first'"
      ]
     },
     "execution_count": 30,
     "metadata": {},
     "output_type": "execute_result"
    }
   ],
   "execution_count": 30
  },
  {
   "metadata": {
    "ExecuteTime": {
     "end_time": "2024-10-11T06:25:48.244913Z",
     "start_time": "2024-10-11T06:25:48.043820Z"
    }
   },
   "cell_type": "code",
   "source": "r.rpop('mylist') # Removes the last element",
   "id": "bfb33f884b41b425",
   "outputs": [
    {
     "data": {
      "text/plain": [
       "b'19'"
      ]
     },
     "execution_count": 37,
     "metadata": {},
     "output_type": "execute_result"
    }
   ],
   "execution_count": 37
  },
  {
   "metadata": {
    "ExecuteTime": {
     "end_time": "2024-10-11T06:25:52.037115Z",
     "start_time": "2024-10-11T06:25:51.850679Z"
    }
   },
   "cell_type": "code",
   "source": "r.lindex('mylist', 2) # Returns the element at index 2",
   "id": "33296712e7900af8",
   "outputs": [
    {
     "data": {
      "text/plain": [
       "b'2'"
      ]
     },
     "execution_count": 38,
     "metadata": {},
     "output_type": "execute_result"
    }
   ],
   "execution_count": 38
  },
  {
   "metadata": {
    "ExecuteTime": {
     "end_time": "2024-10-11T06:25:55.954803Z",
     "start_time": "2024-10-11T06:25:55.760908Z"
    }
   },
   "cell_type": "code",
   "source": "r.llen('mylist') # Returns the length of the list",
   "id": "a9726d134dac8212",
   "outputs": [
    {
     "data": {
      "text/plain": [
       "15"
      ]
     },
     "execution_count": 39,
     "metadata": {},
     "output_type": "execute_result"
    }
   ],
   "execution_count": 39
  },
  {
   "metadata": {
    "ExecuteTime": {
     "end_time": "2024-10-11T06:27:36.186998Z",
     "start_time": "2024-10-11T06:27:35.812917Z"
    }
   },
   "cell_type": "code",
   "source": [
    "r.lset('mylist', 2, 15) # Sets the value at index 2 to 15\n",
    "r.lrange('mylist', 0, -1)\n"
   ],
   "id": "f793bc6303b35697",
   "outputs": [
    {
     "data": {
      "text/plain": [
       "[b'0',\n",
       " b'1',\n",
       " b'15',\n",
       " b'3',\n",
       " b'4',\n",
       " b'5',\n",
       " b'6',\n",
       " b'7',\n",
       " b'8',\n",
       " b'1',\n",
       " b'4',\n",
       " b'7',\n",
       " b'10',\n",
       " b'13',\n",
       " b'16']"
      ]
     },
     "execution_count": 44,
     "metadata": {},
     "output_type": "execute_result"
    }
   ],
   "execution_count": 44
  },
  {
   "metadata": {
    "ExecuteTime": {
     "end_time": "2024-10-11T06:28:39.707441Z",
     "start_time": "2024-10-11T06:28:39.519118Z"
    }
   },
   "cell_type": "code",
   "source": "r.delete('mylist') # Deletes the list",
   "id": "5ae9e1652fd6667d",
   "outputs": [
    {
     "data": {
      "text/plain": [
       "1"
      ]
     },
     "execution_count": 45,
     "metadata": {},
     "output_type": "execute_result"
    }
   ],
   "execution_count": 45
  },
  {
   "metadata": {
    "ExecuteTime": {
     "end_time": "2024-10-11T06:28:46.513632Z",
     "start_time": "2024-10-11T06:28:46.312542Z"
    }
   },
   "cell_type": "code",
   "source": "r.lrange('mylist', 0, -1)",
   "id": "672e2d9d44b5f8c7",
   "outputs": [
    {
     "data": {
      "text/plain": [
       "[]"
      ]
     },
     "execution_count": 46,
     "metadata": {},
     "output_type": "execute_result"
    }
   ],
   "execution_count": 46
  },
  {
   "metadata": {},
   "cell_type": "markdown",
   "source": "## Setting a key value _**Set**_ pair",
   "id": "50960547fff29ad4"
  },
  {
   "metadata": {
    "ExecuteTime": {
     "end_time": "2024-10-11T06:29:53.825027Z",
     "start_time": "2024-10-11T06:29:53.232482Z"
    }
   },
   "cell_type": "code",
   "source": [
    "r.sadd('myset', 'a')\n",
    "r.sadd('myset', 'b')\n",
    "r.sadd('myset', 'a')  # 'a' won't be added again"
   ],
   "id": "6640e5d47d181353",
   "outputs": [
    {
     "data": {
      "text/plain": [
       "0"
      ]
     },
     "execution_count": 47,
     "metadata": {},
     "output_type": "execute_result"
    }
   ],
   "execution_count": 47
  },
  {
   "metadata": {
    "ExecuteTime": {
     "end_time": "2024-10-11T06:30:04.240581Z",
     "start_time": "2024-10-11T06:30:04.034648Z"
    }
   },
   "cell_type": "code",
   "source": [
    "my_set = r.smembers('myset')\n",
    "print(my_set)"
   ],
   "id": "e00c7505f2396055",
   "outputs": [
    {
     "name": "stdout",
     "output_type": "stream",
     "text": [
      "{b'a', b'b'}\n"
     ]
    }
   ],
   "execution_count": 48
  },
  {
   "metadata": {
    "ExecuteTime": {
     "end_time": "2024-10-11T06:35:34.573672Z",
     "start_time": "2024-10-11T06:35:33.245335Z"
    }
   },
   "cell_type": "code",
   "source": [
    "r.srem('myset', 'a') # Removes 'a' from the set\n",
    "r.sadd('myset', 'c') # Adding 'c' to the set\n",
    "r.smembers('myset')"
   ],
   "id": "20876569c6967b6a",
   "outputs": [
    {
     "data": {
      "text/plain": [
       "{b'b', b'c'}"
      ]
     },
     "execution_count": 79,
     "metadata": {},
     "output_type": "execute_result"
    }
   ],
   "execution_count": 79
  },
  {
   "metadata": {
    "ExecuteTime": {
     "end_time": "2024-10-11T06:35:35.584964Z",
     "start_time": "2024-10-11T06:35:34.576958Z"
    }
   },
   "cell_type": "code",
   "source": [
    "r.sadd('myset2', 'a') # Adding 'a' to another set\n",
    "r.sadd('myset2', 'c') # Adding 'c' to another set\n",
    "r.smembers('myset2')"
   ],
   "id": "1fb94c29ff6ca960",
   "outputs": [
    {
     "data": {
      "text/plain": [
       "{b'a', b'c'}"
      ]
     },
     "execution_count": 80,
     "metadata": {},
     "output_type": "execute_result"
    }
   ],
   "execution_count": 80
  },
  {
   "metadata": {
    "ExecuteTime": {
     "end_time": "2024-10-11T06:35:36.708129Z",
     "start_time": "2024-10-11T06:35:36.526854Z"
    }
   },
   "cell_type": "code",
   "source": "r.sdiff('myset2', 'myset') # Returns the difference between two sets",
   "id": "b702955b7aa1dc9f",
   "outputs": [
    {
     "data": {
      "text/plain": [
       "{b'a'}"
      ]
     },
     "execution_count": 81,
     "metadata": {},
     "output_type": "execute_result"
    }
   ],
   "execution_count": 81
  },
  {
   "metadata": {
    "ExecuteTime": {
     "end_time": "2024-10-11T06:35:38.159180Z",
     "start_time": "2024-10-11T06:35:37.777713Z"
    }
   },
   "cell_type": "code",
   "source": "r.sinter('myset2', 'myset') # Returns the intersection between two sets",
   "id": "c6721c37f26dd200",
   "outputs": [
    {
     "data": {
      "text/plain": [
       "{b'c'}"
      ]
     },
     "execution_count": 82,
     "metadata": {},
     "output_type": "execute_result"
    }
   ],
   "execution_count": 82
  },
  {
   "metadata": {},
   "cell_type": "markdown",
   "source": "## Setting a key value _**Hash**_ pair",
   "id": "d8e7f86fb9221982"
  },
  {
   "metadata": {
    "ExecuteTime": {
     "end_time": "2024-10-11T06:38:31.993157Z",
     "start_time": "2024-10-11T06:38:29.727279Z"
    }
   },
   "cell_type": "code",
   "source": [
    "r.hset('myhash', 'name', 'John') # Setting a key value pair\n",
    "r.hset('myhash', 'age', 30) # Setting another key value pair\n",
    "r.hset('myhash', 'city', 'New York') # Setting another key value pair"
   ],
   "id": "c56ef18b4629aac9",
   "outputs": [
    {
     "data": {
      "text/plain": [
       "0"
      ]
     },
     "execution_count": 98,
     "metadata": {},
     "output_type": "execute_result"
    }
   ],
   "execution_count": 98
  },
  {
   "metadata": {
    "ExecuteTime": {
     "end_time": "2024-10-11T06:38:34.283825Z",
     "start_time": "2024-10-11T06:38:33.733866Z"
    }
   },
   "cell_type": "code",
   "source": "r.hscan('myhash', 0) # Scanning the hash",
   "id": "e2c4ea32a90e66f8",
   "outputs": [
    {
     "data": {
      "text/plain": [
       "(0, {b'name': b'John', b'age': b'30', b'city': b'New York'})"
      ]
     },
     "execution_count": 99,
     "metadata": {},
     "output_type": "execute_result"
    }
   ],
   "execution_count": 99
  },
  {
   "metadata": {
    "ExecuteTime": {
     "end_time": "2024-10-11T06:38:37.869685Z",
     "start_time": "2024-10-11T06:38:37.262550Z"
    }
   },
   "cell_type": "code",
   "source": "r.hget('myhash', 'name') # Getting the value of 'name'",
   "id": "d47cdaf15e34cd47",
   "outputs": [
    {
     "data": {
      "text/plain": [
       "b'John'"
      ]
     },
     "execution_count": 100,
     "metadata": {},
     "output_type": "execute_result"
    }
   ],
   "execution_count": 100
  },
  {
   "metadata": {
    "ExecuteTime": {
     "end_time": "2024-10-11T06:38:16.159364Z",
     "start_time": "2024-10-11T06:38:15.781040Z"
    }
   },
   "cell_type": "code",
   "source": [
    "r.hset('myhash', 'name', 'Jame') # Updating the value of 'name'\n",
    "r.hget('myhash', 'name')"
   ],
   "id": "c27879a93c31ff7c",
   "outputs": [
    {
     "data": {
      "text/plain": [
       "b'Jame'"
      ]
     },
     "execution_count": 97,
     "metadata": {},
     "output_type": "execute_result"
    }
   ],
   "execution_count": 97
  },
  {
   "metadata": {
    "ExecuteTime": {
     "end_time": "2024-10-11T06:39:08.335695Z",
     "start_time": "2024-10-11T06:39:08.149998Z"
    }
   },
   "cell_type": "code",
   "source": "r.hdel('myhash', 'name') # Deleting the key value pair",
   "id": "95d66b8794d4c56a",
   "outputs": [
    {
     "data": {
      "text/plain": [
       "1"
      ]
     },
     "execution_count": 101,
     "metadata": {},
     "output_type": "execute_result"
    }
   ],
   "execution_count": 101
  },
  {
   "metadata": {
    "ExecuteTime": {
     "end_time": "2024-10-11T06:39:13.983010Z",
     "start_time": "2024-10-11T06:39:13.628382Z"
    }
   },
   "cell_type": "code",
   "source": "r.hscan('myhash', 0)",
   "id": "78c58ae8a4a1cdad",
   "outputs": [
    {
     "data": {
      "text/plain": [
       "(0, {b'age': b'30', b'city': b'New York'})"
      ]
     },
     "execution_count": 102,
     "metadata": {},
     "output_type": "execute_result"
    }
   ],
   "execution_count": 102
  },
  {
   "metadata": {},
   "cell_type": "markdown",
   "source": "## Setting a key value _**Expiry**_ pair",
   "id": "890cc97d8d26a8ac"
  },
  {
   "metadata": {
    "ExecuteTime": {
     "end_time": "2024-10-11T06:40:49.234779Z",
     "start_time": "2024-10-11T06:40:44.438520Z"
    }
   },
   "cell_type": "code",
   "source": "r.setex('foo', 10, 'bar') # Sets a key value pair with an expiry time of 10 seconds",
   "id": "22e9b4b033307963",
   "outputs": [
    {
     "data": {
      "text/plain": [
       "True"
      ]
     },
     "execution_count": 111,
     "metadata": {},
     "output_type": "execute_result"
    }
   ],
   "execution_count": 111
  },
  {
   "metadata": {
    "ExecuteTime": {
     "end_time": "2024-10-11T06:40:53.240178Z",
     "start_time": "2024-10-11T06:40:50.463136Z"
    }
   },
   "cell_type": "code",
   "source": "r.get('foo') # Returns the value of the key",
   "id": "73cfeb3a63324240",
   "outputs": [
    {
     "data": {
      "text/plain": [
       "b'bar'"
      ]
     },
     "execution_count": 112,
     "metadata": {},
     "output_type": "execute_result"
    }
   ],
   "execution_count": 112
  },
  {
   "metadata": {
    "ExecuteTime": {
     "end_time": "2024-10-11T06:41:14.038091Z",
     "start_time": "2024-10-11T06:40:53.243448Z"
    }
   },
   "cell_type": "code",
   "source": [
    "for i in range(20):\n",
    "    print(r.ttl('foo')) # Returns the time to live of the key"
   ],
   "id": "15e51ae0675c7081",
   "outputs": [
    {
     "name": "stdout",
     "output_type": "stream",
     "text": [
      "5\n",
      "4\n",
      "3\n",
      "2\n",
      "1\n",
      "0\n",
      "-2\n",
      "-2\n",
      "-2\n",
      "-2\n",
      "-2\n",
      "-2\n",
      "-2\n",
      "-2\n",
      "-2\n",
      "-2\n",
      "-2\n",
      "-2\n",
      "-2\n",
      "-2\n"
     ]
    }
   ],
   "execution_count": 113
  },
  {
   "metadata": {
    "ExecuteTime": {
     "end_time": "2024-10-11T06:41:14.951960Z",
     "start_time": "2024-10-11T06:41:14.042511Z"
    }
   },
   "cell_type": "code",
   "source": "r.get('foo') # Returns the value of the key",
   "id": "df1527dd1e34145b",
   "outputs": [],
   "execution_count": 114
  },
  {
   "metadata": {},
   "cell_type": "code",
   "outputs": [],
   "execution_count": null,
   "source": "r.lpushx('mylist', 10) # Pushes 10 to the list",
   "id": "7df822e89c30c132"
  }
 ],
 "metadata": {
  "kernelspec": {
   "display_name": "Python 3",
   "language": "python",
   "name": "python3"
  },
  "language_info": {
   "codemirror_mode": {
    "name": "ipython",
    "version": 2
   },
   "file_extension": ".py",
   "mimetype": "text/x-python",
   "name": "python",
   "nbconvert_exporter": "python",
   "pygments_lexer": "ipython2",
   "version": "2.7.6"
  }
 },
 "nbformat": 4,
 "nbformat_minor": 5
}
