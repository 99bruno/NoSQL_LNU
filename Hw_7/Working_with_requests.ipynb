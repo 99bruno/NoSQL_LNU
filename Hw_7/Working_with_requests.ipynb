{
 "cells": [
  {
   "metadata": {},
   "cell_type": "markdown",
   "source": [
    "# 1. Implement a sample query from an array with different sample conditions. \n",
    "***\n",
    "## Importing the necessary libraries"
   ],
   "id": "2d5f64ef2ee95b74"
  },
  {
   "metadata": {
    "ExecuteTime": {
     "end_time": "2024-09-20T06:36:14.623733Z",
     "start_time": "2024-09-20T06:36:14.615363Z"
    }
   },
   "cell_type": "code",
   "source": [
    "import os\n",
    "import dotenv\n",
    "from bson import ObjectId\n",
    "\n",
    "from pymongo.mongo_client import MongoClient\n",
    "from pymongo.server_api import ServerApi"
   ],
   "id": "b0118c51583c7dfa",
   "outputs": [],
   "execution_count": 7
  },
  {
   "metadata": {},
   "cell_type": "markdown",
   "source": "## Loading the environment variables\n",
   "id": "9b9534602c22d715"
  },
  {
   "metadata": {
    "ExecuteTime": {
     "end_time": "2024-09-20T06:36:15.950428Z",
     "start_time": "2024-09-20T06:36:15.920189Z"
    }
   },
   "cell_type": "code",
   "source": "dotenv.load_dotenv()",
   "id": "f3fa9ea917758497",
   "outputs": [
    {
     "data": {
      "text/plain": [
       "True"
      ]
     },
     "execution_count": 8,
     "metadata": {},
     "output_type": "execute_result"
    }
   ],
   "execution_count": 8
  },
  {
   "metadata": {},
   "cell_type": "markdown",
   "source": "## Creating the connection to the MongoDB\n",
   "id": "c301c6476911c29f"
  },
  {
   "metadata": {
    "ExecuteTime": {
     "end_time": "2024-09-20T06:36:17.460505Z",
     "start_time": "2024-09-20T06:36:17.333918Z"
    }
   },
   "cell_type": "code",
   "source": "client = MongoClient(os.getenv(\"URI\"), server_api=ServerApi('1'), tls=True, tlsAllowInvalidCertificates=True)",
   "id": "5243b4a896478a5b",
   "outputs": [],
   "execution_count": 9
  },
  {
   "metadata": {},
   "cell_type": "markdown",
   "source": "## Check connection to mongo by get standard db movies\n",
   "id": "f7c753c49b974da"
  },
  {
   "metadata": {
    "ExecuteTime": {
     "end_time": "2024-09-20T06:36:18.314Z",
     "start_time": "2024-09-20T06:36:18.309413Z"
    }
   },
   "cell_type": "code",
   "source": [
    "def print_dict(d, indent=0):\n",
    "    for key, value in d.items():\n",
    "        print(' ' * indent + str(key) + ':', end=' ')\n",
    "        if isinstance(value, dict):\n",
    "            print()\n",
    "            print_dict(value, indent + 4)\n",
    "        else:\n",
    "            print(value)"
   ],
   "id": "c4ab2c78e47e3aea",
   "outputs": [],
   "execution_count": 10
  },
  {
   "metadata": {
    "ExecuteTime": {
     "end_time": "2024-09-20T06:36:19.200436Z",
     "start_time": "2024-09-20T06:36:18.907371Z"
    }
   },
   "cell_type": "code",
   "source": [
    "for doc in client['sample_mflix'][\"movies\"].find().limit(2): # You can change limit\n",
    "    print_dict(doc)\n",
    "    print(\"\\n\")"
   ],
   "id": "b2fd3b94406436ea",
   "outputs": [
    {
     "name": "stdout",
     "output_type": "stream",
     "text": [
      "_id: 573a1390f29313caabcd42e8\n",
      "plot: A group of bandits stage a brazen train hold-up, only to find a determined posse hot on their heels.\n",
      "genres: ['Short', 'Western']\n",
      "runtime: 11\n",
      "cast: ['A.C. Abadie', \"Gilbert M. 'Broncho Billy' Anderson\", 'George Barnes', 'Justus D. Barnes']\n",
      "poster: https://m.media-amazon.com/images/M/MV5BMTU3NjE5NzYtYTYyNS00MDVmLWIwYjgtMmYwYWIxZDYyNzU2XkEyXkFqcGdeQXVyNzQzNzQxNzI@._V1_SY1000_SX677_AL_.jpg\n",
      "title: The Great Train Robbery\n",
      "fullplot: Among the earliest existing films in American cinema - notable as the first film that presented a narrative story to tell - it depicts a group of cowboy outlaws who hold up a train and rob the passengers. They are then pursued by a Sheriff's posse. Several scenes have color included - all hand tinted.\n",
      "languages: ['English']\n",
      "released: 1903-12-01 00:00:00\n",
      "directors: ['Edwin S. Porter']\n",
      "rated: TV-G\n",
      "awards: \n",
      "    wins: 1\n",
      "    nominations: 0\n",
      "    text: 1 win.\n",
      "lastupdated: 2015-08-13 00:27:59.177000000\n",
      "year: 1903\n",
      "imdb: \n",
      "    rating: 7.4\n",
      "    votes: 9847\n",
      "    id: 439\n",
      "countries: ['USA']\n",
      "type: movie\n",
      "tomatoes: \n",
      "    viewer: \n",
      "        rating: 3.7\n",
      "        numReviews: 2559\n",
      "        meter: 75\n",
      "    fresh: 6\n",
      "    critic: \n",
      "        rating: 7.6\n",
      "        numReviews: 6\n",
      "        meter: 100\n",
      "    rotten: 0\n",
      "    lastUpdated: 2015-08-08 19:16:10\n",
      "num_mflix_comments: 0\n",
      "\n",
      "\n",
      "_id: 573a1390f29313caabcd446f\n",
      "plot: A greedy tycoon decides, on a whim, to corner the world market in wheat. This doubles the price of bread, forcing the grain's producers into charity lines and further into poverty. The film...\n",
      "genres: ['Short', 'Drama']\n",
      "runtime: 14\n",
      "cast: ['Frank Powell', 'Grace Henderson', 'James Kirkwood', 'Linda Arvidson']\n",
      "num_mflix_comments: 1\n",
      "title: A Corner in Wheat\n",
      "fullplot: A greedy tycoon decides, on a whim, to corner the world market in wheat. This doubles the price of bread, forcing the grain's producers into charity lines and further into poverty. The film continues to contrast the ironic differences between the lives of those who work to grow the wheat and the life of the man who dabbles in its sale for profit.\n",
      "languages: ['English']\n",
      "released: 1909-12-13 00:00:00\n",
      "directors: ['D.W. Griffith']\n",
      "rated: G\n",
      "awards: \n",
      "    wins: 1\n",
      "    nominations: 0\n",
      "    text: 1 win.\n",
      "lastupdated: 2015-08-13 00:46:30.660000000\n",
      "year: 1909\n",
      "imdb: \n",
      "    rating: 6.6\n",
      "    votes: 1375\n",
      "    id: 832\n",
      "countries: ['USA']\n",
      "type: movie\n",
      "tomatoes: \n",
      "    viewer: \n",
      "        rating: 3.6\n",
      "        numReviews: 109\n",
      "        meter: 73\n",
      "    lastUpdated: 2015-05-11 18:36:53\n",
      "\n",
      "\n"
     ]
    }
   ],
   "execution_count": 11
  },
  {
   "metadata": {},
   "cell_type": "markdown",
   "source": "## Creating the sample query request",
   "id": "4dd324b5485ff242"
  },
  {
   "metadata": {
    "ExecuteTime": {
     "end_time": "2024-09-20T06:36:20.257722Z",
     "start_time": "2024-09-20T06:36:20.254981Z"
    }
   },
   "cell_type": "code",
   "source": "db = client['sample_mflix'][\"movies\"]",
   "id": "bb95327bdb979cfd",
   "outputs": [],
   "execution_count": 12
  },
  {
   "metadata": {
    "ExecuteTime": {
     "end_time": "2024-09-20T06:40:14.139030Z",
     "start_time": "2024-09-20T06:40:14.125373Z"
    }
   },
   "cell_type": "code",
   "source": [
    "query1 = db.find(\n",
    "        {\n",
    "            \n",
    "            \"cast\": {\"$all\": [\"Tom Cruise\", \"Steve Harris\"]}\n",
    "        },\n",
    "        {\n",
    "            \"title\": 1,\n",
    "            \"cast\": 1\n",
    "        }\n",
    "    \n",
    "    )"
   ],
   "id": "efbf1911bdf47d55",
   "outputs": [],
   "execution_count": 34
  },
  {
   "metadata": {
    "ExecuteTime": {
     "end_time": "2024-09-20T06:40:14.522527Z",
     "start_time": "2024-09-20T06:40:14.424527Z"
    }
   },
   "cell_type": "code",
   "source": [
    "\n",
    "for doc in query1.limit(5):\n",
    "    print_dict(doc)\n",
    "print(\"\\n\")"
   ],
   "id": "65870f776157b212",
   "outputs": [
    {
     "name": "stdout",
     "output_type": "stream",
     "text": [
      "_id: 573a139ff29313caabcff3cf\n",
      "title: Minority Report\n",
      "cast: ['Tom Cruise', 'Max von Sydow', 'Steve Harris', 'Neal McDonough']\n",
      "\n",
      "\n"
     ]
    }
   ],
   "execution_count": 35
  },
  {
   "metadata": {},
   "cell_type": "markdown",
   "source": "# 2. Implement array-length sampling queries.",
   "id": "38b99e4b8b211c27"
  },
  {
   "metadata": {
    "ExecuteTime": {
     "end_time": "2024-09-20T06:40:54.984133Z",
     "start_time": "2024-09-20T06:40:54.969822Z"
    }
   },
   "cell_type": "code",
   "source": [
    "query2 = db.find(\n",
    "        {\n",
    "            \"cast\": {\"$size\": 3}\n",
    "        },\n",
    "        {\n",
    "            \"_id\": 0,\n",
    "            \"title\": 1,\n",
    "            \"cast\": 1\n",
    "        }\n",
    "    )"
   ],
   "id": "95ce7ffd0dd17efb",
   "outputs": [],
   "execution_count": 42
  },
  {
   "metadata": {
    "ExecuteTime": {
     "end_time": "2024-09-20T06:40:55.150244Z",
     "start_time": "2024-09-20T06:40:55.099150Z"
    }
   },
   "cell_type": "code",
   "source": [
    "for doc in query2.limit(5):\n",
    "    print_dict(doc)"
   ],
   "id": "17a1dfe9584a0a60",
   "outputs": [
    {
     "name": "stdout",
     "output_type": "stream",
     "text": [
      "cast: ['Winsor McCay', 'George McManus', 'Roy L. McCardell']\n",
      "title: Gertie the Dinosaur\n",
      "cast: ['Harold Lloyd', 'Mildred Davis', 'Anna Mae Bilson']\n",
      "title: Now or Never\n",
      "cast: ['Charles King', 'Anita Page', 'Bessie Love']\n",
      "title: The Broadway Melody\n",
      "cast: ['Warner Baxter', 'Edmund Lowe', 'Dorothy Burgess']\n",
      "title: In Old Arizona\n",
      "cast: ['Gloria Swanson', 'Walter Byron', 'Seena Owen']\n",
      "title: Queen Kelly\n"
     ]
    }
   ],
   "execution_count": 43
  },
  {
   "metadata": {},
   "cell_type": "markdown",
   "source": "# 3. Implement selection requests from an array with control elements lazy sampling.",
   "id": "6952465c69ad0da7"
  },
  {
   "metadata": {
    "ExecuteTime": {
     "end_time": "2024-09-20T06:47:15.728326Z",
     "start_time": "2024-09-20T06:47:15.717711Z"
    }
   },
   "cell_type": "code",
   "source": [
    "query3 = db.find(\n",
    "        {\n",
    "            \"_id\": ObjectId(\"573a139ff29313caabcff3cf\"),\n",
    "\n",
    "\n",
    "        },\n",
    "        {\n",
    "            \"_id\": 1,\n",
    "            \"title\": 1,\n",
    "            \"cast\": {\"$slice\": 2}\n",
    "        }\n",
    "    )"
   ],
   "id": "ca4e903cba0f0f60",
   "outputs": [],
   "execution_count": 63
  },
  {
   "metadata": {
    "ExecuteTime": {
     "end_time": "2024-09-20T06:47:16.126609Z",
     "start_time": "2024-09-20T06:47:16.070880Z"
    }
   },
   "cell_type": "code",
   "source": [
    "for doc in query3.limit(5):\n",
    "    print_dict(doc)"
   ],
   "id": "766b7b8d3c5d13ca",
   "outputs": [
    {
     "name": "stdout",
     "output_type": "stream",
     "text": [
      "_id: 573a139ff29313caabcff3cf\n",
      "title: Minority Report\n",
      "cast: ['Tom Cruise', 'Max von Sydow']\n"
     ]
    }
   ],
   "execution_count": 64
  },
  {
   "metadata": {},
   "cell_type": "markdown",
   "source": "# 4. Execute requests to add new data to the array from the using operators that check and do not check for the uniqueness of new elements.",
   "id": "9694c7b32d780db1"
  },
  {
   "metadata": {
    "ExecuteTime": {
     "end_time": "2024-09-20T07:08:15.426686Z",
     "start_time": "2024-09-20T07:08:15.416856Z"
    }
   },
   "cell_type": "code",
   "source": [
    "def query4():\n",
    "    return db.find(\n",
    "        {\n",
    "            \"_id\": ObjectId(\"573a139ff29313caabcff3cf\"),\n",
    "\n",
    "\n",
    "        },\n",
    "        {\n",
    "            \"_id\": 1,\n",
    "            \"title\": 1,\n",
    "            \"cast\": 1\n",
    "        }\n",
    "    )"
   ],
   "id": "203c0e8140cbdbca",
   "outputs": [],
   "execution_count": 98
  },
  {
   "metadata": {
    "ExecuteTime": {
     "end_time": "2024-09-20T07:08:15.774204Z",
     "start_time": "2024-09-20T07:08:15.730769Z"
    }
   },
   "cell_type": "code",
   "source": [
    "db.update_one(\n",
    "    {\n",
    "        \"_id\": ObjectId(\"573a139ff29313caabcff3cf\")\n",
    "    },\n",
    "    {\n",
    "        \"$push\": {\"cast\": \"Tom Cruise\"}\n",
    "    }\n",
    ")"
   ],
   "id": "4cac46b9f6cdbbbc",
   "outputs": [
    {
     "data": {
      "text/plain": [
       "UpdateResult({'n': 1, 'electionId': ObjectId('7fffffff0000000000000069'), 'opTime': {'ts': Timestamp(1726816095, 18), 't': 105}, 'nModified': 1, 'ok': 1.0, '$clusterTime': {'clusterTime': Timestamp(1726816095, 18), 'signature': {'hash': b'\\xc5\\xd6W\\xfa\\xbe\\x04\\xb5c7o-yS\\x1c\\xf5\\x14\\x9aR\\r;', 'keyId': 7359210682539048965}}, 'operationTime': Timestamp(1726816095, 18), 'updatedExisting': True}, acknowledged=True)"
      ]
     },
     "execution_count": 99,
     "metadata": {},
     "output_type": "execute_result"
    }
   ],
   "execution_count": 99
  },
  {
   "metadata": {
    "ExecuteTime": {
     "end_time": "2024-09-20T07:08:16.584430Z",
     "start_time": "2024-09-20T07:08:16.538461Z"
    }
   },
   "cell_type": "code",
   "source": [
    "for doc in query4():\n",
    "    print_dict(doc)"
   ],
   "id": "391a168eb824ceae",
   "outputs": [
    {
     "name": "stdout",
     "output_type": "stream",
     "text": [
      "_id: 573a139ff29313caabcff3cf\n",
      "title: Minority Report\n",
      "cast: ['Max von Sydow', 'Steve Harris', 'Neal McDonough', 'Tom Cruise', 'Tom Cruise']\n"
     ]
    }
   ],
   "execution_count": 100
  },
  {
   "metadata": {
    "ExecuteTime": {
     "end_time": "2024-09-20T07:08:17.795669Z",
     "start_time": "2024-09-20T07:08:17.744468Z"
    }
   },
   "cell_type": "code",
   "source": [
    "db.update_one(\n",
    "    {\n",
    "        \"_id\": ObjectId(\"573a139ff29313caabcff3cf\")\n",
    "    },\n",
    "    {\n",
    "        \"$addToSet\": {\"cast\": \"Anna de'Armas\"}\n",
    "    }\n",
    ")"
   ],
   "id": "6aa45c652e3d817a",
   "outputs": [
    {
     "data": {
      "text/plain": [
       "UpdateResult({'n': 1, 'electionId': ObjectId('7fffffff0000000000000069'), 'opTime': {'ts': Timestamp(1726816097, 15), 't': 105}, 'nModified': 1, 'ok': 1.0, '$clusterTime': {'clusterTime': Timestamp(1726816097, 15), 'signature': {'hash': b'\\xf3\\xb6U\\x92\\xba\\x931\\xcd\\xac\\xa6\\xdeX\\xba\\x16\\xd7X\\xe8\\x9d\\xd5\\xc2', 'keyId': 7359210682539048965}}, 'operationTime': Timestamp(1726816097, 15), 'updatedExisting': True}, acknowledged=True)"
      ]
     },
     "execution_count": 101,
     "metadata": {},
     "output_type": "execute_result"
    }
   ],
   "execution_count": 101
  },
  {
   "metadata": {
    "ExecuteTime": {
     "end_time": "2024-09-20T07:08:19.257923Z",
     "start_time": "2024-09-20T07:08:19.220298Z"
    }
   },
   "cell_type": "code",
   "source": [
    "for doc in query4():\n",
    "    print_dict(doc)"
   ],
   "id": "86550246b86bf9e3",
   "outputs": [
    {
     "name": "stdout",
     "output_type": "stream",
     "text": [
      "_id: 573a139ff29313caabcff3cf\n",
      "title: Minority Report\n",
      "cast: ['Max von Sydow', 'Steve Harris', 'Neal McDonough', 'Tom Cruise', 'Tom Cruise', \"Anna de'Armas\"]\n"
     ]
    }
   ],
   "execution_count": 102
  },
  {
   "metadata": {},
   "cell_type": "markdown",
   "source": "# 5. Execute a request to remove elements from the array.",
   "id": "613fd8a5ef1bfaaf"
  },
  {
   "metadata": {
    "ExecuteTime": {
     "end_time": "2024-09-20T07:08:24.738173Z",
     "start_time": "2024-09-20T07:08:24.684378Z"
    }
   },
   "cell_type": "code",
   "source": [
    "db.update_one(\n",
    "    {\n",
    "        \"_id\": ObjectId(\"573a139ff29313caabcff3cf\")\n",
    "    },\n",
    "    {\n",
    "        \"$pop\": {\"cast\": -1}\n",
    "    }\n",
    ")"
   ],
   "id": "28cf4eec3fa6ae01",
   "outputs": [
    {
     "data": {
      "text/plain": [
       "UpdateResult({'n': 1, 'electionId': ObjectId('7fffffff0000000000000069'), 'opTime': {'ts': Timestamp(1726816104, 15), 't': 105}, 'nModified': 1, 'ok': 1.0, '$clusterTime': {'clusterTime': Timestamp(1726816104, 15), 'signature': {'hash': b'g4R\\xdd\\xfc\\x1d\\xcd;\\x17l\\xb5\\x1b\\xae\\x81\\xea*\\x06\\x12-\\x07', 'keyId': 7359210682539048965}}, 'operationTime': Timestamp(1726816104, 15), 'updatedExisting': True}, acknowledged=True)"
      ]
     },
     "execution_count": 103,
     "metadata": {},
     "output_type": "execute_result"
    }
   ],
   "execution_count": 103
  },
  {
   "metadata": {
    "ExecuteTime": {
     "end_time": "2024-09-20T07:08:26.710844Z",
     "start_time": "2024-09-20T07:08:26.668783Z"
    }
   },
   "cell_type": "code",
   "source": [
    "for doc in query4():\n",
    "    print_dict(doc)"
   ],
   "id": "19bfe4c26784c800",
   "outputs": [
    {
     "name": "stdout",
     "output_type": "stream",
     "text": [
      "_id: 573a139ff29313caabcff3cf\n",
      "title: Minority Report\n",
      "cast: ['Steve Harris', 'Neal McDonough', 'Tom Cruise', 'Tom Cruise', \"Anna de'Armas\"]\n"
     ]
    }
   ],
   "execution_count": 104
  },
  {
   "metadata": {
    "ExecuteTime": {
     "end_time": "2024-09-20T07:09:10.508181Z",
     "start_time": "2024-09-20T07:09:10.455139Z"
    }
   },
   "cell_type": "code",
   "source": [
    "db.update_one(\n",
    "    {\n",
    "        \"_id\": ObjectId(\"573a139ff29313caabcff3cf\")\n",
    "    },\n",
    "    {\n",
    "        \"$pull\": {\"cast\": 'Tom Cruise'}\n",
    "    }\n",
    ")"
   ],
   "id": "79183487857ffa06",
   "outputs": [
    {
     "data": {
      "text/plain": [
       "UpdateResult({'n': 1, 'electionId': ObjectId('7fffffff0000000000000069'), 'opTime': {'ts': Timestamp(1726816150, 12), 't': 105}, 'nModified': 1, 'ok': 1.0, '$clusterTime': {'clusterTime': Timestamp(1726816150, 12), 'signature': {'hash': b'\\x81s\\x9d?;\\x94;\\xe4^\\xc36\\xff\\xa5nt\\xd8l\\xe7\\x06l', 'keyId': 7359210682539048965}}, 'operationTime': Timestamp(1726816150, 12), 'updatedExisting': True}, acknowledged=True)"
      ]
     },
     "execution_count": 105,
     "metadata": {},
     "output_type": "execute_result"
    }
   ],
   "execution_count": 105
  },
  {
   "metadata": {
    "ExecuteTime": {
     "end_time": "2024-09-20T07:09:12.683851Z",
     "start_time": "2024-09-20T07:09:12.638223Z"
    }
   },
   "cell_type": "code",
   "source": [
    "for doc in query4():\n",
    "    print_dict(doc)"
   ],
   "id": "437d9525e00bc243",
   "outputs": [
    {
     "name": "stdout",
     "output_type": "stream",
     "text": [
      "_id: 573a139ff29313caabcff3cf\n",
      "title: Minority Report\n",
      "cast: ['Steve Harris', 'Neal McDonough', \"Anna de'Armas\"]\n"
     ]
    }
   ],
   "execution_count": 106
  },
  {
   "metadata": {},
   "cell_type": "markdown",
   "source": "# 6. Execute the request to change the values of the array.",
   "id": "aa7fc7096e2bf03a"
  },
  {
   "metadata": {
    "ExecuteTime": {
     "end_time": "2024-09-20T07:17:12.621502Z",
     "start_time": "2024-09-20T07:17:12.563110Z"
    }
   },
   "cell_type": "code",
   "source": [
    "db.update_one(\n",
    "    {\n",
    "        \"_id\": ObjectId(\"573a139ff29313caabcff3cf\"),\n",
    "    },\n",
    "    {\n",
    "        \"$set\": {\"cast.0\": \"Tom Cruise\"}\n",
    "    }\n",
    ")"
   ],
   "id": "593b8e27ce510201",
   "outputs": [
    {
     "data": {
      "text/plain": [
       "UpdateResult({'n': 1, 'electionId': ObjectId('7fffffff0000000000000069'), 'opTime': {'ts': Timestamp(1726816632, 9), 't': 105}, 'nModified': 1, 'ok': 1.0, '$clusterTime': {'clusterTime': Timestamp(1726816632, 10), 'signature': {'hash': b'\\xc9\\x97a\\xb0z\\xf0\\xf1t\\xcc\\xac\\x9bjb\\xa7\\xf30J\\xa8*X', 'keyId': 7359210682539048965}}, 'operationTime': Timestamp(1726816632, 9), 'updatedExisting': True}, acknowledged=True)"
      ]
     },
     "execution_count": 110,
     "metadata": {},
     "output_type": "execute_result"
    }
   ],
   "execution_count": 110
  },
  {
   "metadata": {
    "ExecuteTime": {
     "end_time": "2024-09-20T07:17:26.839944Z",
     "start_time": "2024-09-20T07:17:26.793922Z"
    }
   },
   "cell_type": "code",
   "source": [
    "for doc in query4():\n",
    "    print_dict(doc)"
   ],
   "id": "d1cd098f30ca6f34",
   "outputs": [
    {
     "name": "stdout",
     "output_type": "stream",
     "text": [
      "_id: 573a139ff29313caabcff3cf\n",
      "title: Minority Report\n",
      "cast: ['Tom Cruise', 'Neal McDonough', \"Anna de'Armas\"]\n"
     ]
    }
   ],
   "execution_count": 111
  },
  {
   "metadata": {},
   "cell_type": "markdown",
   "source": "",
   "id": "629da7654a5f7e19"
  },
  {
   "metadata": {},
   "cell_type": "markdown",
   "source": [
    "# 7. Implement two queries using regular expressions.\n",
    "***\n",
    "## Creating the first sample query request"
   ],
   "id": "3af43f67380d04ee"
  },
  {
   "metadata": {
    "ExecuteTime": {
     "end_time": "2024-09-20T07:18:37.780421Z",
     "start_time": "2024-09-20T07:18:37.763861Z"
    }
   },
   "cell_type": "code",
   "source": [
    "query5 = db.find(\n",
    "        {\n",
    "            \"title\": {\"$regex\": \".*The.*\"}\n",
    "        },\n",
    "        {\n",
    "            \"_id\": 0,\n",
    "            \"title\": 1,\n",
    "            \"cast\": 1\n",
    "        }\n",
    "    )"
   ],
   "id": "26b0ac9564bf5e6b",
   "outputs": [],
   "execution_count": 113
  },
  {
   "metadata": {
    "ExecuteTime": {
     "end_time": "2024-09-20T07:18:38.467416Z",
     "start_time": "2024-09-20T07:18:38.427950Z"
    }
   },
   "cell_type": "code",
   "source": [
    "for doc in query5.limit(5):\n",
    "    print_dict(doc)"
   ],
   "id": "30a92deeb7b381d8",
   "outputs": [
    {
     "name": "stdout",
     "output_type": "stream",
     "text": [
      "cast: ['A.C. Abadie', \"Gilbert M. 'Broncho Billy' Anderson\", 'George Barnes', 'Justus D. Barnes']\n",
      "title: The Great Train Robbery\n",
      "cast: ['Pearl White', 'Crane Wilbur', 'Paul Panzer', 'Edward Josè']\n",
      "title: The Perils of Pauline\n",
      "cast: ['George Beban', 'Clara Williams', 'J. Frank Burke', 'Leo Willis']\n",
      "title: The Italian\n",
      "cast: ['Mary Pickford', 'Madlaine Traverse', 'Charles Wellesley', 'Gladys Fairbanks']\n",
      "title: The Poor Little Rich Girl\n",
      "cast: ['Tula Belle', 'Robin Macdougall', 'Edwin E. Reed', 'Emma Lowry']\n",
      "title: The Blue Bird\n"
     ]
    }
   ],
   "execution_count": 114
  },
  {
   "metadata": {},
   "cell_type": "markdown",
   "source": "## Creating the second sample query request",
   "id": "6d795c369b56078e"
  },
  {
   "metadata": {
    "ExecuteTime": {
     "end_time": "2024-09-20T07:22:02.944015Z",
     "start_time": "2024-09-20T07:22:02.937526Z"
    }
   },
   "cell_type": "code",
   "source": [
    "query6 = db.find(\n",
    "        {\n",
    "            \"fullplot\": {\"$regex\": \".*American.*\"}\n",
    "        },\n",
    "        {\n",
    "            \"_id\": 0,\n",
    "            \"title\": 1,\n",
    "            \"fullplot\": 1\n",
    "        }\n",
    "    )"
   ],
   "id": "5e83aab635975bb7",
   "outputs": [],
   "execution_count": 126
  },
  {
   "metadata": {
    "ExecuteTime": {
     "end_time": "2024-09-20T07:22:03.277214Z",
     "start_time": "2024-09-20T07:22:03.228344Z"
    }
   },
   "cell_type": "code",
   "source": [
    "for doc in query6.limit(5):\n",
    "    print_dict(doc)"
   ],
   "id": "87d4cd29650d0f86",
   "outputs": [
    {
     "name": "stdout",
     "output_type": "stream",
     "text": [
      "title: The Great Train Robbery\n",
      "fullplot: Among the earliest existing films in American cinema - notable as the first film that presented a narrative story to tell - it depicts a group of cowboy outlaws who hold up a train and rob the passengers. They are then pursued by a Sheriff's posse. Several scenes have color included - all hand tinted.\n",
      "title: The Strong Man\n",
      "fullplot: A meek Belgian soldier (Harry Langdon) fighting in World War I receives penpal letters and a photo from \"Mary Brown\", an American girl he has never met. He becomes infatuated with her by long distance. After the war, the young Belgian journeys to America as assistant to a theatrical \"strong man\", Zandow the Great (Arthur Thalasso). While in America, he searches for Mary Brown... and he finds her, just as word comes that Zandow is incapacitated and the little nebbish must go on stage in his place.\n",
      "title: Four Sons\n",
      "fullplot: In Burgendorf, Bavaria, Mother Bernle has four sons. Franz is in the army, Johann works at the forge, Andreas tends the sheep. Joseph is riding a hay wagon with a pretty girl when some of the hay falls off, landing on the fearsome Maj. Von Stomm. Joseph gets a slap from the major... The jovial postman has brought a letter from America. Joseph has the offer of a job in the States. But getting there is so expensive... It's Mother Bernle's birthday and most of the town gathers for the dancing. Mother gives Joseph the money she has secreted away. He leaves for the USA... It is \"Der Tag\", The Day when war is declared. Franz and Johann are excited about their new uniforms. But America is still neutral. Joseph runs the German-American Delicatessen with his new wife Annabelle. The reports of the first German battles with the Russians are good. So why does the postman carry a black-edged letter for Mother Bernle? When America does enter the war, Joseph enlists and meets his friend, the iceman from the deli... Times are very bad in Burgendorf. Von Stomm accuses Mother Bernle: she is the \"mother of a traitor\"...\n",
      "title: King of Jazz\n",
      "fullplot: This revue presents its numbers around the orchestra leader Paul Whiteman, besides that it shows in it's final number that the European popular music are the roots of American popular music, called Jazz.\n",
      "title: The Gay Divorcee\n",
      "fullplot: Mimi Glossop wants a divorce so her Aunt Hortense hires a professional to play the correspondent in apparent infidelity. American dancer Guy Holden meets Mimi while visiting Brightbourne (Brighton) and she thinks he is the correspondent. The plot is really an excuse for song and dance. The movie won three Academy nominations and the first Oscar for Best Song: \"The Continental\", a twenty-two minute production number.\n"
     ]
    }
   ],
   "execution_count": 127
  }
 ],
 "metadata": {
  "kernelspec": {
   "display_name": "venv",
   "language": "python",
   "name": "venv"
  },
  "language_info": {
   "codemirror_mode": {
    "name": "ipython",
    "version": 2
   },
   "file_extension": ".py",
   "mimetype": "text/x-python",
   "name": "python",
   "nbconvert_exporter": "python",
   "pygments_lexer": "ipython2",
   "version": "2.7.6"
  }
 },
 "nbformat": 4,
 "nbformat_minor": 5
}
